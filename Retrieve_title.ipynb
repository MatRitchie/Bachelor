{
  "nbformat": 4,
  "nbformat_minor": 0,
  "metadata": {
    "colab": {
      "name": "Retrieve_title.ipynb",
      "provenance": [],
      "collapsed_sections": [
        "VryRgaeRyyY9",
        "pWZj17PHzJM0",
        "_9Uy1YcfGBsc"
      ],
      "authorship_tag": "ABX9TyNKqHedteWBXVWhBI0BYu5j",
      "include_colab_link": true
    },
    "kernelspec": {
      "display_name": "Python 3",
      "name": "python3"
    },
    "accelerator": "GPU"
  },
  "cells": [
    {
      "cell_type": "markdown",
      "metadata": {
        "id": "view-in-github",
        "colab_type": "text"
      },
      "source": [
        "<a href=\"https://colab.research.google.com/github/MatRitchie/Bachelor/blob/main/Retrieve_title.ipynb\" target=\"_parent\"><img src=\"https://colab.research.google.com/assets/colab-badge.svg\" alt=\"Open In Colab\"/></a>"
      ]
    },
    {
      "cell_type": "markdown",
      "metadata": {
        "id": "VryRgaeRyyY9"
      },
      "source": [
        "# Installations"
      ]
    },
    {
      "cell_type": "code",
      "metadata": {
        "id": "lVCdto_pjNsu"
      },
      "source": [
        "!pip install folium==0.2.1"
      ],
      "execution_count": null,
      "outputs": []
    },
    {
      "cell_type": "code",
      "metadata": {
        "id": "YEs--eifzCS-"
      },
      "source": [
        "!pip install --upgrade urllib3"
      ],
      "execution_count": null,
      "outputs": []
    },
    {
      "cell_type": "code",
      "metadata": {
        "id": "A2HeY5Asy_ph"
      },
      "source": [
        "!pip install registrable"
      ],
      "execution_count": null,
      "outputs": []
    },
    {
      "cell_type": "code",
      "metadata": {
        "id": "vvXXeqxIyT3p"
      },
      "source": [
        "!pip install allennlp"
      ],
      "execution_count": null,
      "outputs": []
    },
    {
      "cell_type": "markdown",
      "metadata": {
        "id": "pWZj17PHzJM0"
      },
      "source": [
        "# Mount google drive"
      ]
    },
    {
      "cell_type": "code",
      "metadata": {
        "id": "kAyhxsIFzNh2"
      },
      "source": [
        "from google.colab import drive\n",
        "drive.mount('/content/gdrive')"
      ],
      "execution_count": null,
      "outputs": []
    },
    {
      "cell_type": "markdown",
      "metadata": {
        "id": "Cab3kh265INU"
      },
      "source": [
        "\n",
        "\n",
        "# Train model"
      ]
    },
    {
      "cell_type": "code",
      "metadata": {
        "colab": {
          "base_uri": "https://localhost:8080/"
        },
        "id": "07nY8Se7yYsZ",
        "outputId": "2469ae04-4cc2-4af5-8008-3c99a37cb9a0"
      },
      "source": [
        "%cd /content/gdrive/My Drive/Bachelor_Project/"
      ],
      "execution_count": null,
      "outputs": [
        {
          "output_type": "stream",
          "text": [
            "/content/gdrive/My Drive/Bachelor_Project\n"
          ],
          "name": "stdout"
        }
      ]
    },
    {
      "cell_type": "code",
      "metadata": {
        "id": "xTB_NsNU-9wt"
      },
      "source": [
        "!allennlp train '/content/gdrive/My Drive/Bachelor_Project/training_config/config_tfidf.json' -s Output_tfidf/ -f --include-package information_retrieval"
      ],
      "execution_count": null,
      "outputs": []
    },
    {
      "cell_type": "markdown",
      "metadata": {
        "id": "ksXCk7K1F4Ot"
      },
      "source": [
        "# Evaluate model"
      ]
    },
    {
      "cell_type": "code",
      "metadata": {
        "id": "YKBMs3Ug8CuH"
      },
      "source": [
        "!allennlp evaluate 'Output_bert_cls/model.tar.gz' '/content/gdrive/My Drive/Kaggle/LYRICS_DATASET_test_with_title.csv' --include-package information_retrieval"
      ],
      "execution_count": null,
      "outputs": []
    },
    {
      "cell_type": "code",
      "metadata": {
        "id": "ovpMTZfzw6PL"
      },
      "source": [
        "!allennlp evaluate 'Output_bert_cls/model.tar.gz' '/content/gdrive/My Drive/Kaggle/LYRICS_DATASET_test_without_title.csv' --include-package information_retrieval"
      ],
      "execution_count": null,
      "outputs": []
    },
    {
      "cell_type": "markdown",
      "metadata": {
        "id": "_9Uy1YcfGBsc"
      },
      "source": [
        "# Make Predictions"
      ]
    },
    {
      "cell_type": "code",
      "metadata": {
        "id": "St6LH0WwzrTr"
      },
      "source": [
        "!allennlp predict  'Output_ran_initial/model.tar.gz' 'predictions/rejoice.json' --include-package information_retrieval --predictor retrieval-predictor "
      ],
      "execution_count": null,
      "outputs": []
    },
    {
      "cell_type": "code",
      "metadata": {
        "id": "fICBMtczxpw8"
      },
      "source": [
        "!allennlp predict  'Output_ran_initial/model.tar.gz' 'predictions/baby_one_more_time.json' --include-package information_retrieval --predictor retrieval-predictor "
      ],
      "execution_count": null,
      "outputs": []
    },
    {
      "cell_type": "code",
      "metadata": {
        "id": "6OljWIVdxqRr"
      },
      "source": [
        "!allennlp predict  'Output_ran_initial/model.tar.gz' 'predictions/when_the_god_of_love_returns_therell_be_hell_to_pay.json' --include-package information_retrieval --predictor retrieval-predictor "
      ],
      "execution_count": null,
      "outputs": []
    },
    {
      "cell_type": "code",
      "metadata": {
        "id": "xzTpOCVSGDgd"
      },
      "source": [
        "!allennlp predict  'Output_bert_cls/model.tar.gz' 'predictions/brittle_boned.json' --include-package information_retrieval --predictor retrieval-predictor "
      ],
      "execution_count": null,
      "outputs": []
    }
  ]
}