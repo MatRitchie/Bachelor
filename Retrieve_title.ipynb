{
  "nbformat": 4,
  "nbformat_minor": 0,
  "metadata": {
    "colab": {
      "name": "Retrieve_title.ipynb",
      "provenance": [],
      "collapsed_sections": [
        "VryRgaeRyyY9",
        "pWZj17PHzJM0",
        "_9Uy1YcfGBsc"
      ],
      "authorship_tag": "ABX9TyNKqHedteWBXVWhBI0BYu5j",
      "include_colab_link": true
    },
    "kernelspec": {
      "display_name": "Python 3",
      "name": "python3"
    },
    "accelerator": "GPU"
  },
  "cells": [
    {
      "cell_type": "markdown",
      "metadata": {
        "id": "view-in-github",
        "colab_type": "text"
      },
      "source": [
        "<a href=\"https://colab.research.google.com/github/MatRitchie/Bachelor/blob/main/Retrieve_title.ipynb\" target=\"_parent\"><img src=\"https://colab.research.google.com/assets/colab-badge.svg\" alt=\"Open In Colab\"/></a>"
      ]
    },
    {
      "cell_type": "markdown",
      "metadata": {
        "id": "VryRgaeRyyY9"
      },
      "source": [
        "# Installations"
      ]
    },
    {
      "cell_type": "code",
      "metadata": {
        "id": "lVCdto_pjNsu",
        "colab": {
          "base_uri": "https://localhost:8080/"
        },
        "outputId": "1ca6fa20-2ce1-4ba1-c04e-2c5de46363d4"
      },
      "source": [
        "!pip install folium==0.2.1"
      ],
      "execution_count": null,
      "outputs": [
        {
          "output_type": "stream",
          "text": [
            "Collecting folium==0.2.1\n",
            "\u001b[?25l  Downloading https://files.pythonhosted.org/packages/72/dd/75ced7437bfa7cb9a88b96ee0177953062803c3b4cde411a97d98c35adaf/folium-0.2.1.tar.gz (69kB)\n",
            "\r\u001b[K     |████▊                           | 10kB 24.2MB/s eta 0:00:01\r\u001b[K     |█████████▍                      | 20kB 31.1MB/s eta 0:00:01\r\u001b[K     |██████████████                  | 30kB 21.9MB/s eta 0:00:01\r\u001b[K     |██████████████████▊             | 40kB 16.5MB/s eta 0:00:01\r\u001b[K     |███████████████████████▍        | 51kB 16.3MB/s eta 0:00:01\r\u001b[K     |████████████████████████████    | 61kB 13.7MB/s eta 0:00:01\r\u001b[K     |████████████████████████████████| 71kB 6.7MB/s \n",
            "\u001b[?25hRequirement already satisfied: Jinja2 in /usr/local/lib/python3.6/dist-packages (from folium==0.2.1) (2.11.2)\n",
            "Requirement already satisfied: MarkupSafe>=0.23 in /usr/local/lib/python3.6/dist-packages (from Jinja2->folium==0.2.1) (1.1.1)\n",
            "Building wheels for collected packages: folium\n",
            "  Building wheel for folium (setup.py) ... \u001b[?25l\u001b[?25hdone\n",
            "  Created wheel for folium: filename=folium-0.2.1-cp36-none-any.whl size=79980 sha256=cc3be0570a3fc5e1324219db1bbc733dc8c5252538d229b6a5c092eefc563e8b\n",
            "  Stored in directory: /root/.cache/pip/wheels/b8/09/f0/52d2ef419c2aaf4fb149f92a33e0008bdce7ae816f0dd8f0c5\n",
            "Successfully built folium\n",
            "Installing collected packages: folium\n",
            "  Found existing installation: folium 0.8.3\n",
            "    Uninstalling folium-0.8.3:\n",
            "      Successfully uninstalled folium-0.8.3\n",
            "Successfully installed folium-0.2.1\n"
          ],
          "name": "stdout"
        }
      ]
    },
    {
      "cell_type": "code",
      "metadata": {
        "id": "YEs--eifzCS-",
        "colab": {
          "base_uri": "https://localhost:8080/"
        },
        "outputId": "af317858-d16c-44a4-9fc9-b40731ab882d"
      },
      "source": [
        "!pip install --upgrade urllib3"
      ],
      "execution_count": null,
      "outputs": [
        {
          "output_type": "stream",
          "text": [
            "Collecting urllib3\n",
            "\u001b[?25l  Downloading https://files.pythonhosted.org/packages/f5/71/45d36a8df68f3ebb098d6861b2c017f3d094538c0fb98fa61d4dc43e69b9/urllib3-1.26.2-py2.py3-none-any.whl (136kB)\n",
            "\r\u001b[K     |██▍                             | 10kB 26.5MB/s eta 0:00:01\r\u001b[K     |████▉                           | 20kB 34.3MB/s eta 0:00:01\r\u001b[K     |███████▏                        | 30kB 24.9MB/s eta 0:00:01\r\u001b[K     |█████████▋                      | 40kB 22.2MB/s eta 0:00:01\r\u001b[K     |████████████                    | 51kB 24.8MB/s eta 0:00:01\r\u001b[K     |██████████████▍                 | 61kB 22.3MB/s eta 0:00:01\r\u001b[K     |████████████████▊               | 71kB 22.8MB/s eta 0:00:01\r\u001b[K     |███████████████████▏            | 81kB 23.2MB/s eta 0:00:01\r\u001b[K     |█████████████████████▋          | 92kB 21.0MB/s eta 0:00:01\r\u001b[K     |████████████████████████        | 102kB 20.4MB/s eta 0:00:01\r\u001b[K     |██████████████████████████▍     | 112kB 20.4MB/s eta 0:00:01\r\u001b[K     |████████████████████████████▊   | 122kB 20.4MB/s eta 0:00:01\r\u001b[K     |███████████████████████████████▏| 133kB 20.4MB/s eta 0:00:01\r\u001b[K     |████████████████████████████████| 143kB 20.4MB/s \n",
            "\u001b[31mERROR: requests 2.23.0 has requirement urllib3!=1.25.0,!=1.25.1,<1.26,>=1.21.1, but you'll have urllib3 1.26.2 which is incompatible.\u001b[0m\n",
            "\u001b[?25hInstalling collected packages: urllib3\n",
            "  Found existing installation: urllib3 1.24.3\n",
            "    Uninstalling urllib3-1.24.3:\n",
            "      Successfully uninstalled urllib3-1.24.3\n",
            "Successfully installed urllib3-1.26.2\n"
          ],
          "name": "stdout"
        }
      ]
    },
    {
      "cell_type": "code",
      "metadata": {
        "id": "A2HeY5Asy_ph",
        "colab": {
          "base_uri": "https://localhost:8080/"
        },
        "outputId": "f81c306b-0bcf-48a6-ea19-977c092c2828"
      },
      "source": [
        "!pip install registrable"
      ],
      "execution_count": null,
      "outputs": [
        {
          "output_type": "stream",
          "text": [
            "Collecting registrable\n",
            "  Downloading https://files.pythonhosted.org/packages/8a/47/6370d9389664f1af31de4048934faeb681035a079ddc3d284a366875e755/registrable-0.0.4-py3-none-any.whl\n",
            "Installing collected packages: registrable\n",
            "Successfully installed registrable-0.0.4\n"
          ],
          "name": "stdout"
        }
      ]
    },
    {
      "cell_type": "code",
      "metadata": {
        "colab": {
          "base_uri": "https://localhost:8080/"
        },
        "id": "vvXXeqxIyT3p",
        "outputId": "2720ae68-7a3b-4337-941e-45ffbf9f99b1"
      },
      "source": [
        "!pip install allennlp"
      ],
      "execution_count": null,
      "outputs": [
        {
          "output_type": "stream",
          "text": [
            "Collecting allennlp\n",
            "\u001b[?25l  Downloading https://files.pythonhosted.org/packages/72/f5/f4dd3424b3ae9dec0a55ae7f7f34ada3ee60e4b10a187d2ba7384c698e09/allennlp-1.3.0-py3-none-any.whl (506kB)\n",
            "\r\u001b[K     |▋                               | 10kB 26.2MB/s eta 0:00:01\r\u001b[K     |█▎                              | 20kB 33.9MB/s eta 0:00:01\r\u001b[K     |██                              | 30kB 23.3MB/s eta 0:00:01\r\u001b[K     |██▋                             | 40kB 18.5MB/s eta 0:00:01\r\u001b[K     |███▎                            | 51kB 13.4MB/s eta 0:00:01\r\u001b[K     |███▉                            | 61kB 14.5MB/s eta 0:00:01\r\u001b[K     |████▌                           | 71kB 13.8MB/s eta 0:00:01\r\u001b[K     |█████▏                          | 81kB 13.7MB/s eta 0:00:01\r\u001b[K     |█████▉                          | 92kB 13.8MB/s eta 0:00:01\r\u001b[K     |██████▌                         | 102kB 14.1MB/s eta 0:00:01\r\u001b[K     |███████▏                        | 112kB 14.1MB/s eta 0:00:01\r\u001b[K     |███████▊                        | 122kB 14.1MB/s eta 0:00:01\r\u001b[K     |████████▍                       | 133kB 14.1MB/s eta 0:00:01\r\u001b[K     |█████████                       | 143kB 14.1MB/s eta 0:00:01\r\u001b[K     |█████████▊                      | 153kB 14.1MB/s eta 0:00:01\r\u001b[K     |██████████▍                     | 163kB 14.1MB/s eta 0:00:01\r\u001b[K     |███████████                     | 174kB 14.1MB/s eta 0:00:01\r\u001b[K     |███████████▋                    | 184kB 14.1MB/s eta 0:00:01\r\u001b[K     |████████████▎                   | 194kB 14.1MB/s eta 0:00:01\r\u001b[K     |█████████████                   | 204kB 14.1MB/s eta 0:00:01\r\u001b[K     |█████████████▋                  | 215kB 14.1MB/s eta 0:00:01\r\u001b[K     |██████████████▎                 | 225kB 14.1MB/s eta 0:00:01\r\u001b[K     |██████████████▉                 | 235kB 14.1MB/s eta 0:00:01\r\u001b[K     |███████████████▌                | 245kB 14.1MB/s eta 0:00:01\r\u001b[K     |████████████████▏               | 256kB 14.1MB/s eta 0:00:01\r\u001b[K     |████████████████▉               | 266kB 14.1MB/s eta 0:00:01\r\u001b[K     |█████████████████▌              | 276kB 14.1MB/s eta 0:00:01\r\u001b[K     |██████████████████              | 286kB 14.1MB/s eta 0:00:01\r\u001b[K     |██████████████████▊             | 296kB 14.1MB/s eta 0:00:01\r\u001b[K     |███████████████████▍            | 307kB 14.1MB/s eta 0:00:01\r\u001b[K     |████████████████████            | 317kB 14.1MB/s eta 0:00:01\r\u001b[K     |████████████████████▊           | 327kB 14.1MB/s eta 0:00:01\r\u001b[K     |█████████████████████▍          | 337kB 14.1MB/s eta 0:00:01\r\u001b[K     |██████████████████████          | 348kB 14.1MB/s eta 0:00:01\r\u001b[K     |██████████████████████▋         | 358kB 14.1MB/s eta 0:00:01\r\u001b[K     |███████████████████████▎        | 368kB 14.1MB/s eta 0:00:01\r\u001b[K     |████████████████████████        | 378kB 14.1MB/s eta 0:00:01\r\u001b[K     |████████████████████████▋       | 389kB 14.1MB/s eta 0:00:01\r\u001b[K     |█████████████████████████▏      | 399kB 14.1MB/s eta 0:00:01\r\u001b[K     |█████████████████████████▉      | 409kB 14.1MB/s eta 0:00:01\r\u001b[K     |██████████████████████████▌     | 419kB 14.1MB/s eta 0:00:01\r\u001b[K     |███████████████████████████▏    | 430kB 14.1MB/s eta 0:00:01\r\u001b[K     |███████████████████████████▉    | 440kB 14.1MB/s eta 0:00:01\r\u001b[K     |████████████████████████████▌   | 450kB 14.1MB/s eta 0:00:01\r\u001b[K     |█████████████████████████████   | 460kB 14.1MB/s eta 0:00:01\r\u001b[K     |█████████████████████████████▊  | 471kB 14.1MB/s eta 0:00:01\r\u001b[K     |██████████████████████████████▍ | 481kB 14.1MB/s eta 0:00:01\r\u001b[K     |███████████████████████████████ | 491kB 14.1MB/s eta 0:00:01\r\u001b[K     |███████████████████████████████▊| 501kB 14.1MB/s eta 0:00:01\r\u001b[K     |████████████████████████████████| 512kB 14.1MB/s \n",
            "\u001b[?25hCollecting overrides==3.1.0\n",
            "  Downloading https://files.pythonhosted.org/packages/ff/b1/10f69c00947518e6676bbd43e739733048de64b8dd998e9c2d5a71f44c5d/overrides-3.1.0.tar.gz\n",
            "Collecting tensorboardX>=1.2\n",
            "\u001b[?25l  Downloading https://files.pythonhosted.org/packages/af/0c/4f41bcd45db376e6fe5c619c01100e9b7531c55791b7244815bac6eac32c/tensorboardX-2.1-py2.py3-none-any.whl (308kB)\n",
            "\u001b[K     |████████████████████████████████| 317kB 47.7MB/s \n",
            "\u001b[?25hCollecting transformers<4.1,>=4.0\n",
            "\u001b[?25l  Downloading https://files.pythonhosted.org/packages/ed/db/98c3ea1a78190dac41c0127a063abf92bd01b4b0b6970a6db1c2f5b66fa0/transformers-4.0.1-py3-none-any.whl (1.4MB)\n",
            "\u001b[K     |████████████████████████████████| 1.4MB 50.5MB/s \n",
            "\u001b[?25hRequirement already satisfied: h5py in /usr/local/lib/python3.6/dist-packages (from allennlp) (2.10.0)\n",
            "Collecting boto3<2.0,>=1.14\n",
            "\u001b[?25l  Downloading https://files.pythonhosted.org/packages/13/4c/e81c2f215e93a6cb5efdaa991669e3ef1ec6ecfe4407c582c3dfc7d2c281/boto3-1.16.56-py2.py3-none-any.whl (130kB)\n",
            "\u001b[K     |████████████████████████████████| 133kB 52.6MB/s \n",
            "\u001b[?25hRequirement already satisfied: tqdm>=4.19 in /usr/local/lib/python3.6/dist-packages (from allennlp) (4.41.1)\n",
            "Collecting sentencepiece\n",
            "\u001b[?25l  Downloading https://files.pythonhosted.org/packages/14/67/e42bd1181472c95c8cda79305df848264f2a7f62740995a46945d9797b67/sentencepiece-0.1.95-cp36-cp36m-manylinux2014_x86_64.whl (1.2MB)\n",
            "\u001b[K     |████████████████████████████████| 1.2MB 59.0MB/s \n",
            "\u001b[?25hRequirement already satisfied: dataclasses; python_version < \"3.7\" in /usr/local/lib/python3.6/dist-packages (from allennlp) (0.8)\n",
            "Requirement already satisfied: pytest in /usr/local/lib/python3.6/dist-packages (from allennlp) (3.6.4)\n",
            "Collecting jsonnet>=0.10.0; sys_platform != \"win32\"\n",
            "\u001b[?25l  Downloading https://files.pythonhosted.org/packages/42/40/6f16e5ac994b16fa71c24310f97174ce07d3a97b433275589265c6b94d2b/jsonnet-0.17.0.tar.gz (259kB)\n",
            "\u001b[K     |████████████████████████████████| 266kB 54.2MB/s \n",
            "\u001b[?25hRequirement already satisfied: requests>=2.18 in /usr/local/lib/python3.6/dist-packages (from allennlp) (2.23.0)\n",
            "Requirement already satisfied: scikit-learn in /usr/local/lib/python3.6/dist-packages (from allennlp) (0.22.2.post1)\n",
            "Requirement already satisfied: filelock<3.1,>=3.0 in /usr/local/lib/python3.6/dist-packages (from allennlp) (3.0.12)\n",
            "Requirement already satisfied: numpy in /usr/local/lib/python3.6/dist-packages (from allennlp) (1.19.5)\n",
            "Requirement already satisfied: spacy<2.4,>=2.1.0 in /usr/local/lib/python3.6/dist-packages (from allennlp) (2.2.4)\n",
            "Requirement already satisfied: scipy in /usr/local/lib/python3.6/dist-packages (from allennlp) (1.4.1)\n",
            "Collecting jsonpickle\n",
            "  Downloading https://files.pythonhosted.org/packages/ee/d5/1cc282dc23346a43aab461bf2e8c36593aacd34242bee1a13fa750db0cfe/jsonpickle-1.4.2-py2.py3-none-any.whl\n",
            "Requirement already satisfied: nltk in /usr/local/lib/python3.6/dist-packages (from allennlp) (3.2.5)\n",
            "Requirement already satisfied: torch<1.8.0,>=1.6.0 in /usr/local/lib/python3.6/dist-packages (from allennlp) (1.7.0+cu101)\n",
            "Requirement already satisfied: protobuf>=3.8.0 in /usr/local/lib/python3.6/dist-packages (from tensorboardX>=1.2->allennlp) (3.12.4)\n",
            "Requirement already satisfied: six in /usr/local/lib/python3.6/dist-packages (from tensorboardX>=1.2->allennlp) (1.15.0)\n",
            "Collecting sacremoses\n",
            "\u001b[?25l  Downloading https://files.pythonhosted.org/packages/7d/34/09d19aff26edcc8eb2a01bed8e98f13a1537005d31e95233fd48216eed10/sacremoses-0.0.43.tar.gz (883kB)\n",
            "\u001b[K     |████████████████████████████████| 890kB 52.4MB/s \n",
            "\u001b[?25hRequirement already satisfied: regex!=2019.12.17 in /usr/local/lib/python3.6/dist-packages (from transformers<4.1,>=4.0->allennlp) (2019.12.20)\n",
            "Requirement already satisfied: packaging in /usr/local/lib/python3.6/dist-packages (from transformers<4.1,>=4.0->allennlp) (20.8)\n",
            "Collecting tokenizers==0.9.4\n",
            "\u001b[?25l  Downloading https://files.pythonhosted.org/packages/0f/1c/e789a8b12e28be5bc1ce2156cf87cb522b379be9cadc7ad8091a4cc107c4/tokenizers-0.9.4-cp36-cp36m-manylinux2010_x86_64.whl (2.9MB)\n",
            "\u001b[K     |████████████████████████████████| 2.9MB 50.7MB/s \n",
            "\u001b[?25hCollecting botocore<1.20.0,>=1.19.56\n",
            "\u001b[?25l  Downloading https://files.pythonhosted.org/packages/d7/72/c904c62945127699aac8aa5bbd508ec851d55da46aaf1072c061de3eb6fa/botocore-1.19.56-py2.py3-none-any.whl (7.2MB)\n",
            "\u001b[K     |████████████████████████████████| 7.2MB 54.6MB/s \n",
            "\u001b[?25hCollecting s3transfer<0.4.0,>=0.3.0\n",
            "\u001b[?25l  Downloading https://files.pythonhosted.org/packages/ea/43/4b4a1b26eb03a429a4c37ca7fdf369d938bd60018fc194e94b8379b0c77c/s3transfer-0.3.4-py2.py3-none-any.whl (69kB)\n",
            "\u001b[K     |████████████████████████████████| 71kB 12.5MB/s \n",
            "\u001b[?25hCollecting jmespath<1.0.0,>=0.7.1\n",
            "  Downloading https://files.pythonhosted.org/packages/07/cb/5f001272b6faeb23c1c9e0acc04d48eaaf5c862c17709d20e3469c6e0139/jmespath-0.10.0-py2.py3-none-any.whl\n",
            "Requirement already satisfied: more-itertools>=4.0.0 in /usr/local/lib/python3.6/dist-packages (from pytest->allennlp) (8.6.0)\n",
            "Requirement already satisfied: attrs>=17.4.0 in /usr/local/lib/python3.6/dist-packages (from pytest->allennlp) (20.3.0)\n",
            "Requirement already satisfied: pluggy<0.8,>=0.5 in /usr/local/lib/python3.6/dist-packages (from pytest->allennlp) (0.7.1)\n",
            "Requirement already satisfied: py>=1.5.0 in /usr/local/lib/python3.6/dist-packages (from pytest->allennlp) (1.10.0)\n",
            "Requirement already satisfied: atomicwrites>=1.0 in /usr/local/lib/python3.6/dist-packages (from pytest->allennlp) (1.4.0)\n",
            "Requirement already satisfied: setuptools in /usr/local/lib/python3.6/dist-packages (from pytest->allennlp) (51.1.1)\n",
            "Collecting urllib3!=1.25.0,!=1.25.1,<1.26,>=1.21.1\n",
            "\u001b[?25l  Downloading https://files.pythonhosted.org/packages/56/aa/4ef5aa67a9a62505db124a5cb5262332d1d4153462eb8fd89c9fa41e5d92/urllib3-1.25.11-py2.py3-none-any.whl (127kB)\n",
            "\u001b[K     |████████████████████████████████| 133kB 50.5MB/s \n",
            "\u001b[?25hRequirement already satisfied: idna<3,>=2.5 in /usr/local/lib/python3.6/dist-packages (from requests>=2.18->allennlp) (2.10)\n",
            "Requirement already satisfied: chardet<4,>=3.0.2 in /usr/local/lib/python3.6/dist-packages (from requests>=2.18->allennlp) (3.0.4)\n",
            "Requirement already satisfied: certifi>=2017.4.17 in /usr/local/lib/python3.6/dist-packages (from requests>=2.18->allennlp) (2020.12.5)\n",
            "Requirement already satisfied: joblib>=0.11 in /usr/local/lib/python3.6/dist-packages (from scikit-learn->allennlp) (1.0.0)\n",
            "Requirement already satisfied: catalogue<1.1.0,>=0.0.7 in /usr/local/lib/python3.6/dist-packages (from spacy<2.4,>=2.1.0->allennlp) (1.0.0)\n",
            "Requirement already satisfied: srsly<1.1.0,>=1.0.2 in /usr/local/lib/python3.6/dist-packages (from spacy<2.4,>=2.1.0->allennlp) (1.0.5)\n",
            "Requirement already satisfied: plac<1.2.0,>=0.9.6 in /usr/local/lib/python3.6/dist-packages (from spacy<2.4,>=2.1.0->allennlp) (1.1.3)\n",
            "Requirement already satisfied: thinc==7.4.0 in /usr/local/lib/python3.6/dist-packages (from spacy<2.4,>=2.1.0->allennlp) (7.4.0)\n",
            "Requirement already satisfied: blis<0.5.0,>=0.4.0 in /usr/local/lib/python3.6/dist-packages (from spacy<2.4,>=2.1.0->allennlp) (0.4.1)\n",
            "Requirement already satisfied: cymem<2.1.0,>=2.0.2 in /usr/local/lib/python3.6/dist-packages (from spacy<2.4,>=2.1.0->allennlp) (2.0.5)\n",
            "Requirement already satisfied: wasabi<1.1.0,>=0.4.0 in /usr/local/lib/python3.6/dist-packages (from spacy<2.4,>=2.1.0->allennlp) (0.8.0)\n",
            "Requirement already satisfied: preshed<3.1.0,>=3.0.2 in /usr/local/lib/python3.6/dist-packages (from spacy<2.4,>=2.1.0->allennlp) (3.0.5)\n",
            "Requirement already satisfied: murmurhash<1.1.0,>=0.28.0 in /usr/local/lib/python3.6/dist-packages (from spacy<2.4,>=2.1.0->allennlp) (1.0.5)\n",
            "Requirement already satisfied: importlib-metadata; python_version < \"3.8\" in /usr/local/lib/python3.6/dist-packages (from jsonpickle->allennlp) (3.3.0)\n",
            "Requirement already satisfied: future in /usr/local/lib/python3.6/dist-packages (from torch<1.8.0,>=1.6.0->allennlp) (0.16.0)\n",
            "Requirement already satisfied: typing-extensions in /usr/local/lib/python3.6/dist-packages (from torch<1.8.0,>=1.6.0->allennlp) (3.7.4.3)\n",
            "Requirement already satisfied: click in /usr/local/lib/python3.6/dist-packages (from sacremoses->transformers<4.1,>=4.0->allennlp) (7.1.2)\n",
            "Requirement already satisfied: pyparsing>=2.0.2 in /usr/local/lib/python3.6/dist-packages (from packaging->transformers<4.1,>=4.0->allennlp) (2.4.7)\n",
            "Requirement already satisfied: python-dateutil<3.0.0,>=2.1 in /usr/local/lib/python3.6/dist-packages (from botocore<1.20.0,>=1.19.56->boto3<2.0,>=1.14->allennlp) (2.8.1)\n",
            "Requirement already satisfied: zipp>=0.5 in /usr/local/lib/python3.6/dist-packages (from importlib-metadata; python_version < \"3.8\"->jsonpickle->allennlp) (3.4.0)\n",
            "Building wheels for collected packages: overrides, jsonnet, sacremoses\n",
            "  Building wheel for overrides (setup.py) ... \u001b[?25l\u001b[?25hdone\n",
            "  Created wheel for overrides: filename=overrides-3.1.0-cp36-none-any.whl size=10175 sha256=0db8553b0179646413f11ee0ff903f257b107a1906de8e3a4dc9595bc11e69db\n",
            "  Stored in directory: /root/.cache/pip/wheels/5c/24/13/6ef8600e6f147c95e595f1289a86a3cc82ed65df57582c65a9\n",
            "  Building wheel for jsonnet (setup.py) ... \u001b[?25l\u001b[?25hdone\n",
            "  Created wheel for jsonnet: filename=jsonnet-0.17.0-cp36-cp36m-linux_x86_64.whl size=3387948 sha256=296866c8ee63de13e5a149748a19097f8fb39edb0b2a7e52198cd8ec1d7c5a7f\n",
            "  Stored in directory: /root/.cache/pip/wheels/26/7a/37/7dbcc30a6b4efd17b91ad1f0128b7bbf84813bd4e1cfb8c1e3\n",
            "  Building wheel for sacremoses (setup.py) ... \u001b[?25l\u001b[?25hdone\n",
            "  Created wheel for sacremoses: filename=sacremoses-0.0.43-cp36-none-any.whl size=893261 sha256=eb3d82f52baf8a854ff45fa640318d08fb41fb8c4f0e0da941be7f57dca7432f\n",
            "  Stored in directory: /root/.cache/pip/wheels/29/3c/fd/7ce5c3f0666dab31a50123635e6fb5e19ceb42ce38d4e58f45\n",
            "Successfully built overrides jsonnet sacremoses\n",
            "Installing collected packages: overrides, tensorboardX, sacremoses, tokenizers, transformers, urllib3, jmespath, botocore, s3transfer, boto3, sentencepiece, jsonnet, jsonpickle, allennlp\n",
            "  Found existing installation: urllib3 1.26.2\n",
            "    Uninstalling urllib3-1.26.2:\n",
            "      Successfully uninstalled urllib3-1.26.2\n",
            "Successfully installed allennlp-1.3.0 boto3-1.16.56 botocore-1.19.56 jmespath-0.10.0 jsonnet-0.17.0 jsonpickle-1.4.2 overrides-3.1.0 s3transfer-0.3.4 sacremoses-0.0.43 sentencepiece-0.1.95 tensorboardX-2.1 tokenizers-0.9.4 transformers-4.0.1 urllib3-1.25.11\n"
          ],
          "name": "stdout"
        }
      ]
    },
    {
      "cell_type": "markdown",
      "metadata": {
        "id": "pWZj17PHzJM0"
      },
      "source": [
        "# Mount google drive"
      ]
    },
    {
      "cell_type": "code",
      "metadata": {
        "colab": {
          "base_uri": "https://localhost:8080/"
        },
        "id": "kAyhxsIFzNh2",
        "outputId": "90d245e1-f5f5-4e15-bbd8-fc0c1c3a6f28"
      },
      "source": [
        "from google.colab import drive\n",
        "drive.mount('/content/gdrive')"
      ],
      "execution_count": null,
      "outputs": [
        {
          "output_type": "stream",
          "text": [
            "Mounted at /content/gdrive\n"
          ],
          "name": "stdout"
        }
      ]
    },
    {
      "cell_type": "markdown",
      "metadata": {
        "id": "Cab3kh265INU"
      },
      "source": [
        "\n",
        "\n",
        "# Train model"
      ]
    },
    {
      "cell_type": "code",
      "metadata": {
        "colab": {
          "base_uri": "https://localhost:8080/"
        },
        "id": "07nY8Se7yYsZ",
        "outputId": "2469ae04-4cc2-4af5-8008-3c99a37cb9a0"
      },
      "source": [
        "%cd /content/gdrive/My Drive/Bachelor_Project/"
      ],
      "execution_count": null,
      "outputs": [
        {
          "output_type": "stream",
          "text": [
            "/content/gdrive/My Drive/Bachelor_Project\n"
          ],
          "name": "stdout"
        }
      ]
    },
    {
      "cell_type": "code",
      "metadata": {
        "id": "xTB_NsNU-9wt"
      },
      "source": [
        "!allennlp train '/content/gdrive/My Drive/Bachelor_Project/training_config/config_tfidf.json' -s Output_tfidf/ -f --include-package information_retrieval"
      ],
      "execution_count": null,
      "outputs": []
    },
    {
      "cell_type": "markdown",
      "metadata": {
        "id": "ksXCk7K1F4Ot"
      },
      "source": [
        "# Evaluate model"
      ]
    },
    {
      "cell_type": "code",
      "metadata": {
        "id": "YKBMs3Ug8CuH",
        "colab": {
          "base_uri": "https://localhost:8080/"
        },
        "outputId": "d8b3e565-2c0c-4d91-a7b5-a0a60901034c"
      },
      "source": [
        "!allennlp evaluate 'Output_bert_cls/model.tar.gz' '/content/gdrive/My Drive/Kaggle/LYRICS_DATASET_test_with_title.csv' --include-package information_retrieval"
      ],
      "execution_count": null,
      "outputs": [
        {
          "output_type": "stream",
          "text": [
            "2021-01-16 17:08:47.605527: I tensorflow/stream_executor/platform/default/dso_loader.cc:49] Successfully opened dynamic library libcudart.so.10.1\n",
            "2021-01-16 17:08:50,202 - INFO - allennlp.models.archival - loading archive file Output_bert_cls/model.tar.gz\n",
            "2021-01-16 17:08:50,202 - INFO - allennlp.models.archival - extracting archive file Output_bert_cls/model.tar.gz to temp dir /tmp/tmppzrf8jz3\n",
            "2021-01-16 17:08:50,737 - INFO - allennlp.data.vocabulary - Loading token dictionary from /tmp/tmppzrf8jz3/vocabulary.\n",
            "2021-01-16 17:08:50,901 - INFO - allennlp.models.archival - removing temporary unarchived model dir at /tmp/tmppzrf8jz3\n",
            "2021-01-16 17:08:50,904 - INFO - allennlp.common.checks - Pytorch version: 1.7.0+cu101\n",
            "2021-01-16 17:08:50,905 - INFO - allennlp.commands.evaluate - Reading evaluation data from /content/gdrive/My Drive/Kaggle/LYRICS_DATASET_test_with_title.csv\n",
            "reading instances: 0it [00:00, ?it/s]2021-01-16 17:08:50,916 - INFO - numexpr.utils - NumExpr defaulting to 2 threads.\n",
            "Truncation was not explicitly activated but `max_length` is provided a specific value, please use `truncation=True` to explicitly truncate examples to max length. Defaulting to 'longest_first' truncation strategy. If you encode pairs of sequences (GLUE-style) with the tokenizer you can select this strategy more precisely by providing a specific strategy to `truncation`.\n",
            "reading instances: 35it [00:00, 124.84it/s]\n",
            "2021-01-16 17:08:51,187 - INFO - allennlp.training.util - Iterating over dataset\n",
            "mrr: 0.58, bleu: 0.61, loss: 2.82 ||: : 5it [00:00,  5.04it/s]\n",
            "2021-01-16 17:08:52,180 - INFO - allennlp.commands.evaluate - Finished evaluating.\n"
          ],
          "name": "stdout"
        }
      ]
    },
    {
      "cell_type": "code",
      "metadata": {
        "id": "ovpMTZfzw6PL",
        "colab": {
          "base_uri": "https://localhost:8080/"
        },
        "outputId": "ae8e6a88-4cd4-41f5-adcf-1f2a5998c845"
      },
      "source": [
        "!allennlp evaluate 'Output_bert_cls/model.tar.gz' '/content/gdrive/My Drive/Kaggle/LYRICS_DATASET_test_without_title.csv' --include-package information_retrieval"
      ],
      "execution_count": null,
      "outputs": [
        {
          "output_type": "stream",
          "text": [
            "2021-01-16 17:08:54.932170: I tensorflow/stream_executor/platform/default/dso_loader.cc:49] Successfully opened dynamic library libcudart.so.10.1\n",
            "2021-01-16 17:08:57,525 - INFO - allennlp.models.archival - loading archive file Output_bert_cls/model.tar.gz\n",
            "2021-01-16 17:08:57,525 - INFO - allennlp.models.archival - extracting archive file Output_bert_cls/model.tar.gz to temp dir /tmp/tmpcip7pic6\n",
            "2021-01-16 17:08:58,067 - INFO - allennlp.data.vocabulary - Loading token dictionary from /tmp/tmpcip7pic6/vocabulary.\n",
            "2021-01-16 17:08:58,227 - INFO - allennlp.models.archival - removing temporary unarchived model dir at /tmp/tmpcip7pic6\n",
            "2021-01-16 17:08:58,231 - INFO - allennlp.common.checks - Pytorch version: 1.7.0+cu101\n",
            "2021-01-16 17:08:58,232 - INFO - allennlp.commands.evaluate - Reading evaluation data from /content/gdrive/My Drive/Kaggle/LYRICS_DATASET_test_without_title.csv\n",
            "reading instances: 0it [00:00, ?it/s]2021-01-16 17:08:58,243 - INFO - numexpr.utils - NumExpr defaulting to 2 threads.\n",
            "Truncation was not explicitly activated but `max_length` is provided a specific value, please use `truncation=True` to explicitly truncate examples to max length. Defaulting to 'longest_first' truncation strategy. If you encode pairs of sequences (GLUE-style) with the tokenizer you can select this strategy more precisely by providing a specific strategy to `truncation`.\n",
            "reading instances: 23it [00:00, 198.57it/s]\n",
            "2021-01-16 17:08:58,349 - INFO - allennlp.training.util - Iterating over dataset\n",
            "mrr: 0.27, bleu: 0.60, loss: 5.32 ||: : 3it [00:00,  7.23it/s]\n",
            "2021-01-16 17:08:58,765 - INFO - allennlp.commands.evaluate - Finished evaluating.\n"
          ],
          "name": "stdout"
        }
      ]
    },
    {
      "cell_type": "markdown",
      "metadata": {
        "id": "_9Uy1YcfGBsc"
      },
      "source": [
        "# Make Predictions"
      ]
    },
    {
      "cell_type": "code",
      "metadata": {
        "id": "St6LH0WwzrTr",
        "colab": {
          "base_uri": "https://localhost:8080/"
        },
        "outputId": "239f53f8-6d3a-42f7-ac18-beeef37c141c"
      },
      "source": [
        "!allennlp predict  'Output_ran_initial/model.tar.gz' 'predictions/rejoice.json' --include-package information_retrieval --predictor retrieval-predictor "
      ],
      "execution_count": null,
      "outputs": [
        {
          "output_type": "stream",
          "text": [
            "2021-01-16 17:22:09.506930: I tensorflow/stream_executor/platform/default/dso_loader.cc:49] Successfully opened dynamic library libcudart.so.10.1\n",
            "2021-01-16 17:22:12,107 - INFO - allennlp.models.archival - loading archive file Output_ran_initial/model.tar.gz\n",
            "2021-01-16 17:22:12,107 - INFO - allennlp.models.archival - extracting archive file Output_ran_initial/model.tar.gz to temp dir /tmp/tmpovxef1rw\n",
            "2021-01-16 17:22:12,193 - INFO - allennlp.common.params - dataset_reader.type = ranker\n",
            "2021-01-16 17:22:12,193 - INFO - allennlp.common.params - dataset_reader.lazy = False\n",
            "2021-01-16 17:22:12,194 - INFO - allennlp.common.params - dataset_reader.cache_directory = None\n",
            "2021-01-16 17:22:12,194 - INFO - allennlp.common.params - dataset_reader.max_instances = None\n",
            "2021-01-16 17:22:12,194 - INFO - allennlp.common.params - dataset_reader.manual_distributed_sharding = False\n",
            "2021-01-16 17:22:12,194 - INFO - allennlp.common.params - dataset_reader.manual_multi_process_sharding = False\n",
            "2021-01-16 17:22:12,194 - INFO - allennlp.common.params - dataset_reader.tokenizer.type = whitespace\n",
            "2021-01-16 17:22:12,194 - INFO - allennlp.common.params - dataset_reader.token_indexers.tokens.type = single_id\n",
            "2021-01-16 17:22:12,194 - INFO - allennlp.common.params - dataset_reader.token_indexers.tokens.namespace = tokens\n",
            "2021-01-16 17:22:12,194 - INFO - allennlp.common.params - dataset_reader.token_indexers.tokens.lowercase_tokens = False\n",
            "2021-01-16 17:22:12,195 - INFO - allennlp.common.params - dataset_reader.token_indexers.tokens.start_tokens = None\n",
            "2021-01-16 17:22:12,195 - INFO - allennlp.common.params - dataset_reader.token_indexers.tokens.end_tokens = None\n",
            "2021-01-16 17:22:12,195 - INFO - allennlp.common.params - dataset_reader.token_indexers.tokens.feature_name = text\n",
            "2021-01-16 17:22:12,195 - INFO - allennlp.common.params - dataset_reader.token_indexers.tokens.default_value = THIS IS A REALLY UNLIKELY VALUE THAT HAS TO BE A STRING\n",
            "2021-01-16 17:22:12,195 - INFO - allennlp.common.params - dataset_reader.token_indexers.tokens.token_min_padding_length = 0\n",
            "2021-01-16 17:22:12,195 - INFO - allennlp.common.params - dataset_reader.max_tokens = None\n",
            "2021-01-16 17:22:12,195 - INFO - allennlp.common.params - dataset_reader.type = ranker\n",
            "2021-01-16 17:22:12,195 - INFO - allennlp.common.params - dataset_reader.lazy = False\n",
            "2021-01-16 17:22:12,195 - INFO - allennlp.common.params - dataset_reader.cache_directory = None\n",
            "2021-01-16 17:22:12,195 - INFO - allennlp.common.params - dataset_reader.max_instances = None\n",
            "2021-01-16 17:22:12,195 - INFO - allennlp.common.params - dataset_reader.manual_distributed_sharding = False\n",
            "2021-01-16 17:22:12,195 - INFO - allennlp.common.params - dataset_reader.manual_multi_process_sharding = False\n",
            "2021-01-16 17:22:12,196 - INFO - allennlp.common.params - dataset_reader.tokenizer.type = whitespace\n",
            "2021-01-16 17:22:12,196 - INFO - allennlp.common.params - dataset_reader.token_indexers.tokens.type = single_id\n",
            "2021-01-16 17:22:12,196 - INFO - allennlp.common.params - dataset_reader.token_indexers.tokens.namespace = tokens\n",
            "2021-01-16 17:22:12,196 - INFO - allennlp.common.params - dataset_reader.token_indexers.tokens.lowercase_tokens = False\n",
            "2021-01-16 17:22:12,196 - INFO - allennlp.common.params - dataset_reader.token_indexers.tokens.start_tokens = None\n",
            "2021-01-16 17:22:12,196 - INFO - allennlp.common.params - dataset_reader.token_indexers.tokens.end_tokens = None\n",
            "2021-01-16 17:22:12,196 - INFO - allennlp.common.params - dataset_reader.token_indexers.tokens.feature_name = text\n",
            "2021-01-16 17:22:12,196 - INFO - allennlp.common.params - dataset_reader.token_indexers.tokens.default_value = THIS IS A REALLY UNLIKELY VALUE THAT HAS TO BE A STRING\n",
            "2021-01-16 17:22:12,196 - INFO - allennlp.common.params - dataset_reader.token_indexers.tokens.token_min_padding_length = 0\n",
            "2021-01-16 17:22:12,196 - INFO - allennlp.common.params - dataset_reader.max_tokens = None\n",
            "2021-01-16 17:22:12,196 - INFO - allennlp.common.params - type = from_instances\n",
            "2021-01-16 17:22:12,197 - INFO - allennlp.data.vocabulary - Loading token dictionary from /tmp/tmpovxef1rw/vocabulary.\n",
            "2021-01-16 17:22:12,202 - INFO - allennlp.common.params - model.type = ranker\n",
            "2021-01-16 17:22:12,202 - INFO - allennlp.common.params - model.regularizer = None\n",
            "2021-01-16 17:22:12,202 - INFO - allennlp.common.params - model.text_field_embedder.type = basic\n",
            "2021-01-16 17:22:12,203 - INFO - allennlp.common.params - model.text_field_embedder.token_embedders.tokens.type = embedding\n",
            "2021-01-16 17:22:12,203 - INFO - allennlp.common.params - model.text_field_embedder.token_embedders.tokens.embedding_dim = 300\n",
            "2021-01-16 17:22:12,203 - INFO - allennlp.common.params - model.text_field_embedder.token_embedders.tokens.num_embeddings = None\n",
            "2021-01-16 17:22:12,203 - INFO - allennlp.common.params - model.text_field_embedder.token_embedders.tokens.projection_dim = None\n",
            "2021-01-16 17:22:12,203 - INFO - allennlp.common.params - model.text_field_embedder.token_embedders.tokens.weight = None\n",
            "2021-01-16 17:22:12,203 - INFO - allennlp.common.params - model.text_field_embedder.token_embedders.tokens.padding_index = None\n",
            "2021-01-16 17:22:12,203 - INFO - allennlp.common.params - model.text_field_embedder.token_embedders.tokens.trainable = True\n",
            "2021-01-16 17:22:12,203 - INFO - allennlp.common.params - model.text_field_embedder.token_embedders.tokens.max_norm = None\n",
            "2021-01-16 17:22:12,203 - INFO - allennlp.common.params - model.text_field_embedder.token_embedders.tokens.norm_type = 2.0\n",
            "2021-01-16 17:22:12,203 - INFO - allennlp.common.params - model.text_field_embedder.token_embedders.tokens.scale_grad_by_freq = False\n",
            "2021-01-16 17:22:12,203 - INFO - allennlp.common.params - model.text_field_embedder.token_embedders.tokens.sparse = False\n",
            "2021-01-16 17:22:12,203 - INFO - allennlp.common.params - model.text_field_embedder.token_embedders.tokens.vocab_namespace = tokens\n",
            "2021-01-16 17:22:12,203 - INFO - allennlp.common.params - model.text_field_embedder.token_embedders.tokens.pretrained_file = None\n",
            "2021-01-16 17:22:12,216 - INFO - allennlp.common.params - model.relevance_matcher.type = boe_encoder\n",
            "2021-01-16 17:22:12,216 - INFO - allennlp.common.params - model.relevance_matcher.input_dim = 300\n",
            "2021-01-16 17:22:12,216 - INFO - allennlp.common.params - model.num_labels = None\n",
            "2021-01-16 17:22:12,216 - INFO - allennlp.common.params - model.initializer = <allennlp.nn.initializers.InitializerApplicator object at 0x7fbd88e912b0>\n",
            "2021-01-16 17:22:12,222 - INFO - allennlp.models.archival - removing temporary unarchived model dir at /tmp/tmpovxef1rw\n",
            "input 0:  {\"lyric\": \"all of my friends live in a plastic bag walking around jumping the train tracks over the fence veins all black sleep on a bench in the park on my birthday call the blue lights cursed your name when i find im still awake  give me everything good and ill throw it away i wish i could quit but i cant stand the shakes choking to smoke or singing your praise but i think theres a god and he hears either way when i rejoice and complain i never know what to say  but i think theres a god and he hears either way when i rejoice and complain lift my voice that i was made and somebodys listening at night with the ghosts of my friends when i pray asking why did you let them leave and then make me stay know my name and all of my hideous mistakes  i rejoice i rejoice i rejoice i rejoice\", \"title_options\": [\"motion sickness\", \"killer\", \"georgia\", \"kyoto\", \"would you rather\", \"killer  the sound\", \"chelsea\", \"i see you\", \"christmas song\", \"prayer in open d\", \"have yourself a merry little christmas\", \"wilt\", \"motion sickness \", \"coming down\", \"appointments\", \"something\", \"rejoice\", \"turn out the lights\", \"good news\", \"shadowboxing\", \"hurt less\", \"brittle boned\", \"funeral pyre\", \"vessels\", \"televangelist\", \"even\", \"decorated lawns\", \"conversation piece\", \"sad song 12  \", \"pillar of truth\", \"the shell\", \"dream state\", \"body to flame\", \"map on a wall\", \"green eyes red face\", \"trust\", \"forever half mast\", \"long walk home \", \"new light\", \"gravity\", \"free fallin\", \"in the blood\", \"youre gonna live forever in me\", \"wildfire interlude\", \"still feel like your man\", \"rosie\", \"emoji of a wave\", \"paper doll\", \"love on the weekend\", \"your body is a wonderland\", \"carry me away\", \"no such thing\", \"never on the day you leave\", \"who you love\", \"xo\", \"neon\", \"why georgia\", \"heartbreak warfare\", \"dear marie\", \"the heart of life\", \"changing\", \"wildfire\", \"im gonna find another you\", \"say\", \"roll it on home\", \"i will be found lost at sea\", \"something like olivia\", \"the age of worry\", \"on the way home\", \"my stupid mouth\", \"covered in rain\", \"3x5\", \"a face to call home\", \"somethings missing\", \"st patricks day\", \"shadow days\", \"badge and gun\", \"wheel\", \"city love\", \"83\", \"if i ever get around to living\", \"love is a verb\", \"call me the breeze\", \"war of my life\", \"victoria\", \"new deep\", \"born and raised reprise\", \"crossroads\", \"the search for everything \", \"fool to love you\", \"home life\", \"hummingbird\", \"i dont need no doctor\", \"go easy on me\", \"\\u200breverie\", \"\\u200bterrified \", \"\\u200blast words \", \"\\u200ball in my mind\", \"\\u200blove aint always so good\", \"\\u200bhollow crown\", \"\\u200brunning on empty\", \"\\u200bthe death of you  i\", \"\\u200bwhen you go\", \"\\u200bshow me love\", \"\\u200bdarkness of the day\", \"\\u200bburn my clothes bury my crown\", \"\\u200banswers\", \"\\u200bhollow crown \", \"\\u200bshow me love \", \"fluorescent adolescent \", \"epilogue\", \"bird\", \"cursive\", \"heavy weather\", \"la lune\", \"lionhearted\", \"cartoon people\", \"emily\", \"green\", \"unaware\", \"ribbon\", \"in for the kill\", \"its a fine day\", \"she dances\", \"hilokil\", \"anchor\", \"weather\", \"birthplace\", \"colourway\", \"repeat until death\", \"holland\", \"i make sparks\", \"oh round lake\", \"so we drift\", \"flay\", \"anchor \", \"real estate\", \"i dont wanna see you cryin anymore\", \"means to a mend\", \"metadata\", \"30 minutes\", \"plan on you\", \"brook revisited\", \"three hours ahead\", \"itsjustmyheart\", \"cryin interlude\", \"between us\", \"rock it regardless\", \"chlorine water\", \"season tickets\", \"calm  forward\", \"cherry wine  live\", \"from eden\", \"work song\", \"nina cried power\", \"angel of small death  the codeine scene\", \"movement\", \"someone new\", \"nfwmb\", \"like real people do\", \"jackie and wilson\", \"wasteland baby\", \"in a week\", \"dinner  diatribes\", \"would that i\", \"talk\", \"as it was\", \"be\", \"it will come back\", \"my love will never die\", \"say my name\", \"blood\", \"nina cried power \", \"devil\", \"the parting glass \", \"sorry not sorry \", \"from eden \", \"god rest ye merry gentlemen \", \"problem \", \"shrike \", \"movement \", \"the trapeze swinger\", \"call it dreaming\", \"naked as we came\", \"upward over the mountain\", \"each coming night\", \"time after time\", \"boy with a coin\", \"passing afternoon\", \"cinder and smoke\", \"the sea and the rhythm\", \"jezebel\", \"claim your ghost\", \"about a bruise\", \"what hurts worse\", \"summer clouds\", \"song in stone\", \"freckled girl\", \"sunset soon forgotten\", \"lions mane\", \"tree by the river\", \"autumn town leaves\", \"the truest stars we know\", \"last night\", \"waves of galveston\", \"free until they cut me down\", \"teeth in the grass\", \"right for sky\", \"house by the sea\", \"joy\", \"belated promise ring\", \"biting your tail\", \"carousel\", \"your sly smile\", \"wolves song of the shepherds dog\", \"promising light\", \"promise\", \"keep your head up\", \"black flies\", \"end of the affair\", \"only love\", \"small things\", \"the fear\", \"gracious\", \"everything\", \"a boat to an island pt 2  agathas song\", \"to be alone\", \"someone in the doorway\", \"burgh island\", \"hot heavy summer\", \"diamonds\", \"empty corridors\", \"under the same sun\", \"follaton wood\", \"i will be blessed\", \"am i in your light\", \"all down the mines interlude\", \"further away\", \"a hand to hold\", \"untitled\", \"let it go\", \"us\", \"incomplete\", \"in my head\", \"fade out\", \"when we were on fire\", \"collide\", \"running\", \"hear your heart\", \"get out while you can\", \"intro\", \"interlude\", \"kings highway\", \"wait in line\", \"sparks\", \"forever\", \"if you want to be in love\", \"time\", \"carcassonne\", \"all your life\", \"truly gone\", \"i could be wrong\", \"all to the wind\", \"haze\", \"fade\", \"a good mans light\", \"more than you thought to use\", \"wanderer\", \"on my way home\", \"dreaming of the moon\", \"old hope\", \"clay dad\", \"tucked in at home\", \"shape of you\", \"perfect\", \"supermarket flowers\", \"galway girl\", \"south of the border\", \"eraser\", \"new man\", \"how would you feel paean\", \"you need me i dont need you \", \"give me love\", \"save myself\", \"lego house\", \"im a mess\", \"bloodstream\", \"take it back\", \"best part of me\", \"small bump\", \"take me back to london \", \"the man\", \"all of the stars\", \"drunk\", \"runaway\", \"even my dad does sometimes\", \"nothing on you\", \"little lady\", \"the parting glass\", \"make it rain\", \"1000 nights\", \"way to break my heart\", \"feels\", \"sunburn\", \"you need me i dont need you \", \"cold coffee\", \"the city\", \"take me back to london \", \"dont \", \"shape of you \", \"she\", \"homeless\", \"baby one more time\", \"gold rush\", \"one night\", \"english rose\", \"be like you\", \"firefly\", \"everything you are\", \"let it out\", \"sofa\", \"chateau lobby 4 in c for two virgins\", \"pure comedy\", \"bored in the usa\", \"mr tillman\", \"total entertainment forever\", \"nothing good ever happens at the goddamn thirsty crow\", \"real love baby\", \"leaving la\", \"the ideal husband\", \"true affection\", \"im writing a novel\", \"things it would have been helpful to know before the revolution\", \"gods favorite customer\", \"hangout at the gallows\", \"please dont die\", \"only son of the ladiesman\", \"the memo\", \"when the god of love returns therell be hell to pay\", \"birdie\", \"the palace\", \"the songwriter\", \"smoochie\", \"now im learning to love the war\", \"tee pees 112\", \"everything is free\", \"pure comedy \"]}\n",
            "prediction:  {\"instance\": {\"logits\": [-0.6968444585800171, -0.7635606527328491, -0.2406812608242035, -0.1389181762933731, -0.297956258058548, -0.3736231327056885, -0.14547379314899445, -0.5254135131835938, -0.45652908086776733, -0.006769530475139618, -0.7456938624382019, -0.3348197937011719, -0.6968444585800171, -0.8713659048080444, -0.17993637919425964, -1.1246931552886963, -0.1745247095823288, -0.21966814994812012, -0.10153324902057648, -0.31123125553131104, -0.12525789439678192, -0.05131771042943001, -0.14012426137924194, -0.27405697107315063, -0.23829089105129242, -0.13007476925849915, -0.27405697107315063, -0.25667452812194824, -0.06844136863946915, -0.37729161977767944, -0.6433006525039673, -0.5686372518539429, -0.38545429706573486, -0.01614225283265114, -0.1307653784751892, -0.22344063222408295, -0.45428961515426636, -0.4507722556591034, -0.26557475328445435, -0.23665869235992432, -1.0047298669815063, -0.576812744140625, -0.4454028606414795, -0.4468512535095215, -0.4597071409225464, -0.2128317654132843, -0.33892160654067993, -0.3678228259086609, -0.6686965227127075, -0.4997744858264923, -0.27740076184272766, -0.1747320294380188, -0.38759490847587585, -1.8049265146255493, -0.22746196389198303, -0.27405697107315063, -0.18704453110694885, -0.2830210030078888, -0.32398855686187744, -0.3103658854961395, -0.47365111112594604, -0.35500437021255493, -0.2721157670021057, -1.3041586875915527, -0.35150206089019775, -0.27636462450027466, -0.4475880265235901, -0.7127013206481934, -0.5803824663162231, -0.7004653215408325, -0.6419883966445923, -0.18524736166000366, -0.31892985105514526, -0.12847140431404114, -0.11967717111110687, -0.19020873308181763, -0.2129862904548645, -0.3354010581970215, -0.8018662929534912, -0.1756049394607544, -0.31719115376472473, -0.5883326530456543, -0.5056184530258179, -0.420096755027771, -0.27405697107315063, -0.14361417293548584, -0.8795111179351807, -0.2644369602203369, -0.5120797157287598, -0.4637966454029083, -0.30736735463142395, -0.38983944058418274, -0.6781604290008545, -0.5160470008850098, -0.27405697107315063, -0.27405697107315063, -0.1943388134241104, -0.29505395889282227, -0.017064381390810013, -0.19259287416934967, -0.1176515519618988, -0.2349531352519989, -0.6089729070663452, -1.0894262790679932, -0.35925793647766113, -0.325761079788208, -0.27405697107315063, -0.19259287416934967, -1.0894262790679932, -0.27405697107315063, -0.27405697107315063, -1.055227279663086, -0.2839953899383545, -0.49067121744155884, -0.23990032076835632, -0.19060951471328735, -0.28926220536231995, -0.27405697107315063, -0.13773858547210693, -0.0410301499068737, -0.21219107508659363, -0.16507147252559662, -0.4222191572189331, -0.16477739810943604, -0.27405697107315063, -0.5796821713447571, -0.450872540473938, -0.2482021301984787, -0.27405697107315063, -0.29799318313598633, -0.6696828603744507, -0.34509217739105225, -0.662449836730957, -0.3496982455253601, -0.2742837071418762, -0.5796821713447571, -0.2148190438747406, -0.49335697293281555, -0.195980042219162, -0.367195725440979, -0.20848888158798218, -0.6030393838882446, -0.06555041670799255, -0.30367380380630493, -0.27405697107315063, -0.1713603138923645, -0.3382965326309204, -0.3737673759460449, -0.2857823967933655, -0.2790587544441223, -0.48280057311058044, -0.2394917905330658, -0.5337771773338318, -0.12094739079475403, -1.635733962059021, -0.6478168368339539, -0.5936863422393799, -0.46723344922065735, -0.27405697107315063, -0.11931812763214111, -0.3401668071746826, -0.2660618722438812, -0.16604340076446533, -0.3795897960662842, -0.2740055322647095, -0.3613835573196411, -0.5267487168312073, -0.7804120779037476, -0.42264628410339355, -0.8509620428085327, -0.8402087688446045, -0.29545170068740845, -1.635733962059021, -0.46679937839508057, -0.17885088920593262, -0.369369775056839, -0.5337771773338318, -0.4860804080963135, -0.5643513202667236, -0.27405697107315063, -0.5936863422393799, -0.21477976441383362, -0.25333741307258606, -0.5374388098716736, -0.3970666527748108, -0.4855194389820099, -0.6221752166748047, -0.5263121724128723, -0.3857277035713196, -0.40767937898635864, -0.46104100346565247, -0.3806779086589813, -0.6149038076400757, -0.3279772698879242, -0.5755547881126404, -0.21385471522808075, -0.1914336085319519, -0.22045549750328064, -0.4053052067756653, -0.36804431676864624, -0.3439837098121643, -0.20443910360336304, -0.3118327558040619, -0.4491446912288666, -0.3239290714263916, -0.5482147336006165, -1.470831036567688, -0.5846916437149048, -0.401824414730072, -0.4451080858707428, -0.14432638883590698, -0.4166262149810791, -0.4013061821460724, -0.6231909990310669, -0.4918339252471924, -0.25715792179107666, -0.44220227003097534, -0.7102464437484741, -0.007632136344909668, -0.26717880368232727, -1.1108266115188599, -0.2710511088371277, -0.4906952381134033, -0.2557673156261444, -0.4189510941505432, -0.06269018352031708, -0.5813270211219788, -0.35725367069244385, -0.13007017970085144, -0.4069027900695801, 0.07083462178707123, -0.10048336535692215, -1.4882616996765137, -0.3796344995498657, -0.4593164026737213, -1.0925023555755615, -1.5901236534118652, -0.3547210991382599, -0.32464295625686646, -0.27405697107315063, -0.4776880741119385, -0.5844813585281372, -0.21618306636810303, -0.38665705919265747, -0.04239421337842941, -0.45605939626693726, -0.27405697107315063, -0.47236499190330505, -0.7861484885215759, -0.299099862575531, -0.27405697107315063, -0.3630634546279907, 0.04856746271252632, -0.5128743648529053, -0.34431299567222595, -0.6682437658309937, -0.5992646217346191, -0.3599482476711273, -0.11980599164962769, -0.6671352386474609, -0.41931092739105225, -0.5020307898521423, -0.3506084382534027, 0.0641082227230072, -0.05914326757192612, -0.18889473378658295, -0.4686245322227478, -0.1312817633152008, -0.8145121335983276, -0.45959508419036865, -0.24127145111560822, -0.0654163807630539, -0.3043212890625, -0.6156376600265503, -0.1828320026397705, -0.07274889945983887, -0.1336679458618164, -0.32808879017829895, -0.17548632621765137, -0.27944034337997437, -0.3716447949409485, -0.7321703433990479, -1.646459698677063, -0.11854802072048187, -0.1457740068435669, -0.5403739213943481, -0.3163016140460968, -0.4646291732788086, -0.28822454810142517, -0.2725173532962799, -0.469240665435791, -0.16931581497192383, -0.46817946434020996, -0.22351300716400146, 0.05580512806773186, -0.2833970785140991, -0.577982485294342, -0.6852840185165405, -0.17885088920593262, -1.405417799949646, -0.2230958193540573, -0.3750641345977783, -0.3525569438934326, -0.2067272812128067, -0.7321703433990479, -0.328617125749588, -0.558518648147583, -0.469240665435791, -1.6288599967956543, -0.6156376600265503, -0.3399767279624939, -0.28735488653182983, -0.29859650135040283, -0.46261316537857056, -0.30498698353767395, -0.19032397866249084, -0.5166748762130737, -0.41161590814590454, -0.3509880304336548, -0.6439516544342041, -0.2676504850387573, -0.044621750712394714, -0.31997862458229065, -0.40617018938064575, -0.2516825199127197, -0.14999350905418396, -0.03553984686732292, -0.7525589466094971, -0.06274367868900299, -0.3751744031906128, -0.5315641760826111, -0.06639774143695831, -0.19511613249778748, -0.19065266847610474, -0.3307760953903198, -0.6037308573722839, -0.290600061416626, -0.36405831575393677, -0.22045938670635223, -0.33519667387008667, -0.3631319999694824, -0.22935643792152405, -0.4873512089252472, -0.2923858165740967, -0.2101086676120758, -0.4703059494495392, -0.31997862458229065], \"lyric\": [\"all\", \"of\", \"my\", \"friends\", \"live\", \"in\", \"a\", \"plastic\", \"bag\", \"walking\", \"around\", \"jumping\", \"the\", \"train\", \"tracks\", \"over\", \"the\", \"fence\", \"veins\", \"all\", \"black\", \"sleep\", \"on\", \"a\", \"bench\", \"in\", \"the\", \"park\", \"on\", \"my\", \"birthday\", \"call\", \"the\", \"blue\", \"lights\", \"cursed\", \"your\", \"name\", \"when\", \"i\", \"find\", \"im\", \"still\", \"awake\", \"give\", \"me\", \"everything\", \"good\", \"and\", \"ill\", \"throw\", \"it\", \"away\", \"i\", \"wish\", \"i\", \"could\", \"quit\", \"but\", \"i\", \"cant\", \"stand\", \"the\", \"shakes\", \"choking\", \"to\", \"smoke\", \"or\", \"singing\", \"your\", \"praise\", \"but\", \"i\", \"think\", \"theres\", \"a\", \"god\", \"and\", \"he\", \"hears\", \"either\", \"way\", \"when\", \"i\", \"rejoice\", \"and\", \"complain\", \"i\", \"never\", \"know\", \"what\", \"to\", \"say\", \"but\", \"i\", \"think\", \"theres\", \"a\", \"god\", \"and\", \"he\", \"hears\", \"either\", \"way\", \"when\", \"i\", \"rejoice\", \"and\", \"complain\", \"lift\", \"my\", \"voice\", \"that\", \"i\", \"was\", \"made\", \"and\", \"somebodys\", \"listening\", \"at\", \"night\", \"with\", \"the\", \"ghosts\", \"of\", \"my\", \"friends\", \"when\", \"i\", \"pray\", \"asking\", \"why\", \"did\", \"you\", \"let\", \"them\", \"leave\", \"and\", \"then\", \"make\", \"me\", \"stay\", \"know\", \"my\", \"name\", \"and\", \"all\", \"of\", \"my\", \"hideous\", \"mistakes\", \"i\", \"rejoice\", \"i\", \"rejoice\", \"i\", \"rejoice\", \"i\", \"rejoice\"], \"predicted_title\": [\"diamonds\"], \"top_5_predected_titles\": [\"[diamonds]\", \"[haze]\", \"[runaway]\", \"[kings, highway]\", \"[prayer, in, open, d]\"]}}\n",
            "\n"
          ],
          "name": "stdout"
        }
      ]
    },
    {
      "cell_type": "code",
      "metadata": {
        "id": "fICBMtczxpw8",
        "colab": {
          "base_uri": "https://localhost:8080/"
        },
        "outputId": "e6fa10f3-b1e5-4f4e-e347-84b05be94fb6"
      },
      "source": [
        "!allennlp predict  'Output_ran_initial/model.tar.gz' 'predictions/baby_one_more_time.json' --include-package information_retrieval --predictor retrieval-predictor "
      ],
      "execution_count": null,
      "outputs": [
        {
          "output_type": "stream",
          "text": [
            "2021-01-16 17:22:19.161634: I tensorflow/stream_executor/platform/default/dso_loader.cc:49] Successfully opened dynamic library libcudart.so.10.1\n",
            "2021-01-16 17:22:21,748 - INFO - allennlp.models.archival - loading archive file Output_ran_initial/model.tar.gz\n",
            "2021-01-16 17:22:21,749 - INFO - allennlp.models.archival - extracting archive file Output_ran_initial/model.tar.gz to temp dir /tmp/tmpaq721h87\n",
            "2021-01-16 17:22:21,839 - INFO - allennlp.common.params - dataset_reader.type = ranker\n",
            "2021-01-16 17:22:21,839 - INFO - allennlp.common.params - dataset_reader.lazy = False\n",
            "2021-01-16 17:22:21,839 - INFO - allennlp.common.params - dataset_reader.cache_directory = None\n",
            "2021-01-16 17:22:21,839 - INFO - allennlp.common.params - dataset_reader.max_instances = None\n",
            "2021-01-16 17:22:21,840 - INFO - allennlp.common.params - dataset_reader.manual_distributed_sharding = False\n",
            "2021-01-16 17:22:21,840 - INFO - allennlp.common.params - dataset_reader.manual_multi_process_sharding = False\n",
            "2021-01-16 17:22:21,840 - INFO - allennlp.common.params - dataset_reader.tokenizer.type = whitespace\n",
            "2021-01-16 17:22:21,840 - INFO - allennlp.common.params - dataset_reader.token_indexers.tokens.type = single_id\n",
            "2021-01-16 17:22:21,840 - INFO - allennlp.common.params - dataset_reader.token_indexers.tokens.namespace = tokens\n",
            "2021-01-16 17:22:21,840 - INFO - allennlp.common.params - dataset_reader.token_indexers.tokens.lowercase_tokens = False\n",
            "2021-01-16 17:22:21,840 - INFO - allennlp.common.params - dataset_reader.token_indexers.tokens.start_tokens = None\n",
            "2021-01-16 17:22:21,840 - INFO - allennlp.common.params - dataset_reader.token_indexers.tokens.end_tokens = None\n",
            "2021-01-16 17:22:21,841 - INFO - allennlp.common.params - dataset_reader.token_indexers.tokens.feature_name = text\n",
            "2021-01-16 17:22:21,841 - INFO - allennlp.common.params - dataset_reader.token_indexers.tokens.default_value = THIS IS A REALLY UNLIKELY VALUE THAT HAS TO BE A STRING\n",
            "2021-01-16 17:22:21,841 - INFO - allennlp.common.params - dataset_reader.token_indexers.tokens.token_min_padding_length = 0\n",
            "2021-01-16 17:22:21,841 - INFO - allennlp.common.params - dataset_reader.max_tokens = None\n",
            "2021-01-16 17:22:21,841 - INFO - allennlp.common.params - dataset_reader.type = ranker\n",
            "2021-01-16 17:22:21,841 - INFO - allennlp.common.params - dataset_reader.lazy = False\n",
            "2021-01-16 17:22:21,841 - INFO - allennlp.common.params - dataset_reader.cache_directory = None\n",
            "2021-01-16 17:22:21,841 - INFO - allennlp.common.params - dataset_reader.max_instances = None\n",
            "2021-01-16 17:22:21,841 - INFO - allennlp.common.params - dataset_reader.manual_distributed_sharding = False\n",
            "2021-01-16 17:22:21,841 - INFO - allennlp.common.params - dataset_reader.manual_multi_process_sharding = False\n",
            "2021-01-16 17:22:21,842 - INFO - allennlp.common.params - dataset_reader.tokenizer.type = whitespace\n",
            "2021-01-16 17:22:21,842 - INFO - allennlp.common.params - dataset_reader.token_indexers.tokens.type = single_id\n",
            "2021-01-16 17:22:21,842 - INFO - allennlp.common.params - dataset_reader.token_indexers.tokens.namespace = tokens\n",
            "2021-01-16 17:22:21,842 - INFO - allennlp.common.params - dataset_reader.token_indexers.tokens.lowercase_tokens = False\n",
            "2021-01-16 17:22:21,842 - INFO - allennlp.common.params - dataset_reader.token_indexers.tokens.start_tokens = None\n",
            "2021-01-16 17:22:21,842 - INFO - allennlp.common.params - dataset_reader.token_indexers.tokens.end_tokens = None\n",
            "2021-01-16 17:22:21,842 - INFO - allennlp.common.params - dataset_reader.token_indexers.tokens.feature_name = text\n",
            "2021-01-16 17:22:21,842 - INFO - allennlp.common.params - dataset_reader.token_indexers.tokens.default_value = THIS IS A REALLY UNLIKELY VALUE THAT HAS TO BE A STRING\n",
            "2021-01-16 17:22:21,842 - INFO - allennlp.common.params - dataset_reader.token_indexers.tokens.token_min_padding_length = 0\n",
            "2021-01-16 17:22:21,842 - INFO - allennlp.common.params - dataset_reader.max_tokens = None\n",
            "2021-01-16 17:22:21,843 - INFO - allennlp.common.params - type = from_instances\n",
            "2021-01-16 17:22:21,843 - INFO - allennlp.data.vocabulary - Loading token dictionary from /tmp/tmpaq721h87/vocabulary.\n",
            "2021-01-16 17:22:21,848 - INFO - allennlp.common.params - model.type = ranker\n",
            "2021-01-16 17:22:21,849 - INFO - allennlp.common.params - model.regularizer = None\n",
            "2021-01-16 17:22:21,849 - INFO - allennlp.common.params - model.text_field_embedder.type = basic\n",
            "2021-01-16 17:22:21,849 - INFO - allennlp.common.params - model.text_field_embedder.token_embedders.tokens.type = embedding\n",
            "2021-01-16 17:22:21,849 - INFO - allennlp.common.params - model.text_field_embedder.token_embedders.tokens.embedding_dim = 300\n",
            "2021-01-16 17:22:21,849 - INFO - allennlp.common.params - model.text_field_embedder.token_embedders.tokens.num_embeddings = None\n",
            "2021-01-16 17:22:21,849 - INFO - allennlp.common.params - model.text_field_embedder.token_embedders.tokens.projection_dim = None\n",
            "2021-01-16 17:22:21,849 - INFO - allennlp.common.params - model.text_field_embedder.token_embedders.tokens.weight = None\n",
            "2021-01-16 17:22:21,850 - INFO - allennlp.common.params - model.text_field_embedder.token_embedders.tokens.padding_index = None\n",
            "2021-01-16 17:22:21,850 - INFO - allennlp.common.params - model.text_field_embedder.token_embedders.tokens.trainable = True\n",
            "2021-01-16 17:22:21,850 - INFO - allennlp.common.params - model.text_field_embedder.token_embedders.tokens.max_norm = None\n",
            "2021-01-16 17:22:21,850 - INFO - allennlp.common.params - model.text_field_embedder.token_embedders.tokens.norm_type = 2.0\n",
            "2021-01-16 17:22:21,850 - INFO - allennlp.common.params - model.text_field_embedder.token_embedders.tokens.scale_grad_by_freq = False\n",
            "2021-01-16 17:22:21,850 - INFO - allennlp.common.params - model.text_field_embedder.token_embedders.tokens.sparse = False\n",
            "2021-01-16 17:22:21,850 - INFO - allennlp.common.params - model.text_field_embedder.token_embedders.tokens.vocab_namespace = tokens\n",
            "2021-01-16 17:22:21,850 - INFO - allennlp.common.params - model.text_field_embedder.token_embedders.tokens.pretrained_file = None\n",
            "2021-01-16 17:22:21,862 - INFO - allennlp.common.params - model.relevance_matcher.type = boe_encoder\n",
            "2021-01-16 17:22:21,862 - INFO - allennlp.common.params - model.relevance_matcher.input_dim = 300\n",
            "2021-01-16 17:22:21,863 - INFO - allennlp.common.params - model.num_labels = None\n",
            "2021-01-16 17:22:21,863 - INFO - allennlp.common.params - model.initializer = <allennlp.nn.initializers.InitializerApplicator object at 0x7fcb16741b00>\n",
            "2021-01-16 17:22:21,868 - INFO - allennlp.models.archival - removing temporary unarchived model dir at /tmp/tmpaq721h87\n",
            "input 0:  {\"lyric\": \"oh baby baby how was i supposed to know that something wasnt right here oh baby baby i shouldnt have let you go cause now youre out of sight yeah   show me how you want it to be tell me baby cause i need to know now oh because   my loneliness is killing me and i i must confess i still believe still believe when youre not with me i lose my mind give me a sign hit me baby one more time   oh baby baby the reason i breathe is you yeah you got me stranded oh pretty baby theres nothing that i wouldnt do its not the way i planned it   show me how you want it to be oh tell me babe cause i need to know now oh because   my loneliness is killing me and i i must confess i still believe still believe when youre not with me i lose my mind give me a sign hit me baby one more time   oh baby baby how was i supposed to know oh pretty baby i shouldntve let you go   oh i must confess that my loneliness is killing me now hit me baby one more time   my loneliness is killing me and i i must confess i still believe still believe when youre not with me i lose my mind give me a sign hit me baby one more time when im not with you i lose my mind give me a sign hit me baby one more time\", \"title_options\": [\"motion sickness\", \"killer\", \"georgia\", \"kyoto\", \"would you rather\", \"killer  the sound\", \"chelsea\", \"i see you\", \"christmas song\", \"prayer in open d\", \"have yourself a merry little christmas\", \"wilt\", \"motion sickness \", \"coming down\", \"appointments\", \"something\", \"rejoice\", \"turn out the lights\", \"good news\", \"shadowboxing\", \"hurt less\", \"brittle boned\", \"funeral pyre\", \"vessels\", \"televangelist\", \"even\", \"decorated lawns\", \"conversation piece\", \"sad song 12  \", \"pillar of truth\", \"the shell\", \"dream state\", \"body to flame\", \"map on a wall\", \"green eyes red face\", \"trust\", \"forever half mast\", \"long walk home \", \"new light\", \"gravity\", \"free fallin\", \"in the blood\", \"youre gonna live forever in me\", \"wildfire interlude\", \"still feel like your man\", \"rosie\", \"emoji of a wave\", \"paper doll\", \"love on the weekend\", \"your body is a wonderland\", \"carry me away\", \"no such thing\", \"never on the day you leave\", \"who you love\", \"xo\", \"neon\", \"why georgia\", \"heartbreak warfare\", \"dear marie\", \"the heart of life\", \"changing\", \"wildfire\", \"im gonna find another you\", \"say\", \"roll it on home\", \"i will be found lost at sea\", \"something like olivia\", \"the age of worry\", \"on the way home\", \"my stupid mouth\", \"covered in rain\", \"3x5\", \"a face to call home\", \"somethings missing\", \"st patricks day\", \"shadow days\", \"badge and gun\", \"wheel\", \"city love\", \"83\", \"if i ever get around to living\", \"love is a verb\", \"call me the breeze\", \"war of my life\", \"victoria\", \"new deep\", \"born and raised reprise\", \"crossroads\", \"the search for everything \", \"fool to love you\", \"home life\", \"hummingbird\", \"i dont need no doctor\", \"go easy on me\", \"\\u200breverie\", \"\\u200bterrified \", \"\\u200blast words \", \"\\u200ball in my mind\", \"\\u200blove aint always so good\", \"\\u200bhollow crown\", \"\\u200brunning on empty\", \"\\u200bthe death of you  i\", \"\\u200bwhen you go\", \"\\u200bshow me love\", \"\\u200bdarkness of the day\", \"\\u200bburn my clothes bury my crown\", \"\\u200banswers\", \"\\u200bhollow crown \", \"\\u200bshow me love \", \"fluorescent adolescent \", \"epilogue\", \"bird\", \"cursive\", \"heavy weather\", \"la lune\", \"lionhearted\", \"cartoon people\", \"emily\", \"green\", \"unaware\", \"ribbon\", \"in for the kill\", \"its a fine day\", \"she dances\", \"hilokil\", \"anchor\", \"weather\", \"birthplace\", \"colourway\", \"repeat until death\", \"holland\", \"i make sparks\", \"oh round lake\", \"so we drift\", \"flay\", \"anchor \", \"real estate\", \"i dont wanna see you cryin anymore\", \"means to a mend\", \"metadata\", \"30 minutes\", \"plan on you\", \"brook revisited\", \"three hours ahead\", \"itsjustmyheart\", \"cryin interlude\", \"between us\", \"rock it regardless\", \"chlorine water\", \"season tickets\", \"calm  forward\", \"cherry wine  live\", \"from eden\", \"work song\", \"nina cried power\", \"angel of small death  the codeine scene\", \"movement\", \"someone new\", \"nfwmb\", \"like real people do\", \"jackie and wilson\", \"wasteland baby\", \"in a week\", \"dinner  diatribes\", \"would that i\", \"talk\", \"as it was\", \"be\", \"it will come back\", \"my love will never die\", \"say my name\", \"blood\", \"nina cried power \", \"devil\", \"the parting glass \", \"sorry not sorry \", \"from eden \", \"god rest ye merry gentlemen \", \"problem \", \"shrike \", \"movement \", \"the trapeze swinger\", \"call it dreaming\", \"naked as we came\", \"upward over the mountain\", \"each coming night\", \"time after time\", \"boy with a coin\", \"passing afternoon\", \"cinder and smoke\", \"the sea and the rhythm\", \"jezebel\", \"claim your ghost\", \"about a bruise\", \"what hurts worse\", \"summer clouds\", \"song in stone\", \"freckled girl\", \"sunset soon forgotten\", \"lions mane\", \"tree by the river\", \"autumn town leaves\", \"the truest stars we know\", \"last night\", \"waves of galveston\", \"free until they cut me down\", \"teeth in the grass\", \"right for sky\", \"house by the sea\", \"joy\", \"belated promise ring\", \"biting your tail\", \"carousel\", \"your sly smile\", \"wolves song of the shepherds dog\", \"promising light\", \"promise\", \"keep your head up\", \"black flies\", \"end of the affair\", \"only love\", \"small things\", \"the fear\", \"gracious\", \"everything\", \"a boat to an island pt 2  agathas song\", \"to be alone\", \"someone in the doorway\", \"burgh island\", \"hot heavy summer\", \"diamonds\", \"empty corridors\", \"under the same sun\", \"follaton wood\", \"i will be blessed\", \"am i in your light\", \"all down the mines interlude\", \"further away\", \"a hand to hold\", \"untitled\", \"let it go\", \"us\", \"incomplete\", \"in my head\", \"fade out\", \"when we were on fire\", \"collide\", \"running\", \"hear your heart\", \"get out while you can\", \"intro\", \"interlude\", \"kings highway\", \"wait in line\", \"sparks\", \"forever\", \"if you want to be in love\", \"time\", \"carcassonne\", \"all your life\", \"truly gone\", \"i could be wrong\", \"all to the wind\", \"haze\", \"fade\", \"a good mans light\", \"more than you thought to use\", \"wanderer\", \"on my way home\", \"dreaming of the moon\", \"old hope\", \"clay dad\", \"tucked in at home\", \"shape of you\", \"perfect\", \"supermarket flowers\", \"galway girl\", \"south of the border\", \"eraser\", \"new man\", \"how would you feel paean\", \"you need me i dont need you \", \"give me love\", \"save myself\", \"lego house\", \"im a mess\", \"bloodstream\", \"take it back\", \"best part of me\", \"small bump\", \"take me back to london \", \"the man\", \"all of the stars\", \"drunk\", \"runaway\", \"even my dad does sometimes\", \"nothing on you\", \"little lady\", \"the parting glass\", \"make it rain\", \"1000 nights\", \"way to break my heart\", \"feels\", \"sunburn\", \"you need me i dont need you \", \"cold coffee\", \"the city\", \"take me back to london \", \"dont \", \"shape of you \", \"she\", \"homeless\", \"baby one more time\", \"gold rush\", \"one night\", \"english rose\", \"be like you\", \"firefly\", \"everything you are\", \"let it out\", \"sofa\", \"chateau lobby 4 in c for two virgins\", \"pure comedy\", \"bored in the usa\", \"mr tillman\", \"total entertainment forever\", \"nothing good ever happens at the goddamn thirsty crow\", \"real love baby\", \"leaving la\", \"the ideal husband\", \"true affection\", \"im writing a novel\", \"things it would have been helpful to know before the revolution\", \"gods favorite customer\", \"hangout at the gallows\", \"please dont die\", \"only son of the ladiesman\", \"the memo\", \"when the god of love returns therell be hell to pay\", \"birdie\", \"the palace\", \"the songwriter\", \"smoochie\", \"now im learning to love the war\", \"tee pees 112\", \"everything is free\", \"pure comedy \"]}\n",
            "prediction:  {\"instance\": {\"logits\": [-0.3776423931121826, -0.2786663770675659, -0.25200530886650085, -0.2499484270811081, -0.3721699118614197, -0.2519812285900116, -0.22741380333900452, -0.4644101858139038, -0.583274245262146, -0.3050333261489868, -0.9105678796768188, -0.3669719398021698, -0.3776423931121826, -0.7836562991142273, -0.18192026019096375, -1.060210943222046, -0.2898271083831787, -0.46511977910995483, -0.10156063735485077, -0.15935346484184265, -0.2246246635913849, -0.121363565325737, -0.14291059970855713, -0.3644285202026367, -0.32381653785705566, -0.22396154701709747, -0.3644285202026367, -0.3754063844680786, -0.1803717464208603, -0.5028637647628784, -0.9789066314697266, -0.6532477140426636, -0.5204824805259705, -0.11951016634702682, -0.26521360874176025, -0.34931623935699463, -0.6720371842384338, -0.5641297698020935, -0.3873531222343445, -0.26569047570228577, -1.1130071878433228, -0.9139979481697083, -0.4894339442253113, -0.46920233964920044, -0.30852770805358887, -0.2909798324108124, -0.5826070308685303, -0.46040546894073486, -0.6112409830093384, -0.561781644821167, -0.17123405635356903, -0.22184649109840393, -0.475866436958313, -1.5685725212097168, -0.26327380537986755, -0.3644285202026367, -0.2536274194717407, -0.33865296840667725, -0.482463538646698, -0.5641219615936279, -0.49087658524513245, -0.49023061990737915, -0.31958258152008057, -1.3578588962554932, -0.3894192576408386, -0.4532175362110138, -0.41531142592430115, -1.0473930835723877, -0.7775377035140991, -0.46840161085128784, -0.9018670320510864, -0.15979531407356262, -0.5686799883842468, -0.17697066068649292, -0.3491799235343933, -0.294134259223938, -0.31664443016052246, -0.6233384609222412, -0.5838053226470947, -0.2701065242290497, -0.38486447930336, -0.4746909737586975, -0.43991541862487793, -0.39512985944747925, -0.3644285202026367, -0.30229467153549194, -1.0423927307128906, -0.3460403084754944, -0.74668949842453, -0.3566674292087555, -0.5001871585845947, -0.4884106516838074, -0.5406718254089355, -0.20216381549835205, -0.3644285202026367, -0.3644285202026367, -0.3331909775733948, -0.32815873622894287, -0.05319922789931297, -0.24183741211891174, -0.2431175410747528, -0.3527385890483856, -0.5034841299057007, -0.7232557535171509, -0.7055556774139404, -0.09210102260112762, -0.3644285202026367, -0.24183741211891174, -0.7232557535171509, -0.3644285202026367, -0.3644285202026367, -1.2433518171310425, -0.3412792682647705, -0.624391496181488, -0.41575050354003906, -0.286998450756073, -0.4182244539260864, -0.3644285202026367, -0.23607875406742096, -0.06358417868614197, -0.35473498702049255, -0.4519984722137451, -0.5567983388900757, -0.22823485732078552, -0.3644285202026367, -0.5747330188751221, -0.46529287099838257, -0.2865269184112549, -0.3644285202026367, -0.3780533969402313, -0.7293680906295776, -0.4800071120262146, -0.7316365838050842, -0.46152812242507935, -0.29961302876472473, -0.5747330188751221, -0.21702690422534943, -0.3483228087425232, -0.4315439462661743, -0.5587570071220398, -0.2862969934940338, -0.4779852628707886, -0.2521883547306061, -0.4602107107639313, -0.3644285202026367, -0.25717881321907043, -0.5803570747375488, -0.3397964835166931, -0.3919476866722107, -0.31574106216430664, -0.37419047951698303, -0.33486586809158325, -0.43905335664749146, -0.41787657141685486, -1.5797994136810303, -0.8673178553581238, -0.4426737427711487, -0.5502274036407471, -0.3644285202026367, -0.15093687176704407, -0.6020135283470154, -0.3795686662197113, -0.37426143884658813, -0.370484322309494, -0.2503066658973694, -0.37410417199134827, -0.6420895457267761, -0.7516282796859741, -0.3053773045539856, -0.5988794565200806, -0.60086989402771, -0.23612059652805328, -1.5797994136810303, -0.5168375968933105, -0.48076146841049194, -0.18486639857292175, -0.43905335664749146, -0.6302365064620972, -0.3584546446800232, -0.3644285202026367, -0.4426737427711487, -0.5214000344276428, -0.3318379521369934, -0.6340093612670898, -0.6659314632415771, -0.5265324711799622, -0.6834880113601685, -0.8140099048614502, -0.6052431464195251, -0.5546644926071167, -0.7355697154998779, -0.4907594323158264, -0.7753893136978149, -0.5024878978729248, -0.7316045761108398, -0.45401009917259216, -0.5227389335632324, -0.26631614565849304, -0.6076372861862183, -0.4727509319782257, -0.6680994033813477, -0.4191734194755554, -0.6762663722038269, -0.6718258857727051, -0.5063632726669312, -0.3273330628871918, -1.7840144634246826, -0.523998498916626, -0.6615477800369263, -0.419405460357666, -0.3507194221019745, -0.6079298257827759, -0.645241916179657, -0.7651243209838867, -0.840943455696106, -0.41252195835113525, -0.4110372066497803, -0.76128089427948, -0.08055879175662994, -0.5597046613693237, -0.7799534201622009, -0.45510610938072205, -0.7058390378952026, -0.32650816440582275, -0.32676219940185547, -0.30611228942871094, -0.6186046600341797, -0.693062961101532, -0.30285584926605225, -0.7511239051818848, -0.17198030650615692, -0.26912185549736023, -1.6964006423950195, -0.39055222272872925, -0.5144019722938538, -1.1905336380004883, -1.693659782409668, -0.5341159105300903, -0.4651849567890167, -0.3644285202026367, -0.40045294165611267, -0.7993065118789673, -0.36880049109458923, -0.36164891719818115, -0.3234359622001648, -0.5269309282302856, -0.3644285202026367, -0.6285529732704163, -0.7959756255149841, -0.4054398536682129, -0.3644285202026367, -0.33240747451782227, -0.022728316485881805, -0.5643507838249207, -0.442139208316803, -0.7375531792640686, -0.5241615772247314, -0.4852362275123596, -0.14666125178337097, -0.8929060101509094, -0.6022924780845642, -0.6159287691116333, -0.6849389672279358, 0.01235375925898552, -0.3712741732597351, -0.3016897439956665, -0.5105872750282288, -0.2966863214969635, -0.759091854095459, -0.824077844619751, -0.36680763959884644, -0.21131998300552368, -0.5140601992607117, -0.6047940850257874, -0.31065717339515686, -0.1758362054824829, -0.26496052742004395, -0.5563260316848755, -0.40333443880081177, -0.2425590306520462, -0.15169301629066467, -0.5001815557479858, -1.3112610578536987, -0.2210383415222168, -0.23571409285068512, -0.6325594782829285, -0.32575511932373047, -0.5091559886932373, -0.23333832621574402, -0.2946983575820923, -0.35467609763145447, -0.41059955954551697, -0.868401288986206, -0.30319344997406006, 0.06103276461362839, -0.06415952742099762, -0.5443449020385742, -0.8009599447250366, -0.48076146841049194, -1.5315659046173096, -0.25504550337791443, -0.29913049936294556, -0.4080391526222229, -0.28817132115364075, -0.5001815557479858, -0.10992209613323212, -0.7559854984283447, -0.35467609763145447, -1.4398090839385986, -0.6047940850257874, -0.2954350709915161, -0.21905000507831573, -0.43993958830833435, -0.5756309628486633, -0.3425089418888092, -0.17572036385536194, -0.39421671628952026, -0.26528632640838623, -0.16266845166683197, -0.5777781009674072, -0.47884875535964966, -0.28728142380714417, -0.5525588989257812, -0.7081400156021118, -0.3263842463493347, -0.2875162363052368, -0.285830020904541, -0.5502438545227051, -0.2515949308872223, -0.7508251070976257, -0.5508562922477722, -0.2149677723646164, -0.4602559506893158, -0.29114633798599243, -0.5572693347930908, -0.44810032844543457, -0.5470287799835205, -0.7004184722900391, -0.4457088112831116, -0.4162904620170593, -0.6733716726303101, -0.4591265320777893, -0.5067319869995117, -0.3961116671562195, -0.12166869640350342, -0.5258442163467407, -0.5525588989257812], \"lyric\": [\"oh\", \"baby\", \"baby\", \"how\", \"was\", \"i\", \"supposed\", \"to\", \"know\", \"that\", \"something\", \"wasnt\", \"right\", \"here\", \"oh\", \"baby\", \"baby\", \"i\", \"shouldnt\", \"have\", \"let\", \"you\", \"go\", \"cause\", \"now\", \"youre\", \"out\", \"of\", \"sight\", \"yeah\", \"show\", \"me\", \"how\", \"you\", \"want\", \"it\", \"to\", \"be\", \"tell\", \"me\", \"baby\", \"cause\", \"i\", \"need\", \"to\", \"know\", \"now\", \"oh\", \"because\", \"my\", \"loneliness\", \"is\", \"killing\", \"me\", \"and\", \"i\", \"i\", \"must\", \"confess\", \"i\", \"still\", \"believe\", \"still\", \"believe\", \"when\", \"youre\", \"not\", \"with\", \"me\", \"i\", \"lose\", \"my\", \"mind\", \"give\", \"me\", \"a\", \"sign\", \"hit\", \"me\", \"baby\", \"one\", \"more\", \"time\", \"oh\", \"baby\", \"baby\", \"the\", \"reason\", \"i\", \"breathe\", \"is\", \"you\", \"yeah\", \"you\", \"got\", \"me\", \"stranded\", \"oh\", \"pretty\", \"baby\", \"theres\", \"nothing\", \"that\", \"i\", \"wouldnt\", \"do\", \"its\", \"not\", \"the\", \"way\", \"i\", \"planned\", \"it\", \"show\", \"me\", \"how\", \"you\", \"want\", \"it\", \"to\", \"be\", \"oh\", \"tell\", \"me\", \"babe\", \"cause\", \"i\", \"need\", \"to\", \"know\", \"now\", \"oh\", \"because\", \"my\", \"loneliness\", \"is\", \"killing\", \"me\", \"and\", \"i\", \"i\", \"must\", \"confess\", \"i\", \"still\", \"believe\", \"still\", \"believe\", \"when\", \"youre\", \"not\", \"with\", \"me\", \"i\", \"lose\", \"my\", \"mind\", \"give\", \"me\", \"a\", \"sign\", \"hit\", \"me\", \"baby\", \"one\", \"more\", \"time\", \"oh\", \"baby\", \"baby\", \"how\", \"was\", \"i\", \"supposed\", \"to\", \"know\", \"oh\", \"pretty\", \"baby\", \"i\", \"shouldntve\", \"let\", \"you\", \"go\", \"oh\", \"i\", \"must\", \"confess\", \"that\", \"my\", \"loneliness\", \"is\", \"killing\", \"me\", \"now\", \"hit\", \"me\", \"baby\", \"one\", \"more\", \"time\", \"my\", \"loneliness\", \"is\", \"killing\", \"me\", \"and\", \"i\", \"i\", \"must\", \"confess\", \"i\", \"still\", \"believe\", \"still\", \"believe\", \"when\", \"youre\", \"not\", \"with\", \"me\", \"i\", \"lose\", \"my\", \"mind\", \"give\", \"me\", \"a\", \"sign\", \"hit\", \"me\", \"baby\", \"one\", \"more\", \"time\", \"when\", \"im\", \"not\", \"with\", \"you\", \"i\", \"lose\", \"my\", \"mind\", \"give\", \"me\", \"a\", \"sign\", \"hit\", \"me\", \"baby\", \"one\", \"more\", \"time\"], \"predicted_title\": [\"runaway\"], \"top_5_predected_titles\": [\"[runaway]\", \"[haze]\", \"[kings, highway]\", \"[\\u200blove, aint, always, so, good]\", \"[unaware]\"]}}\n",
            "\n"
          ],
          "name": "stdout"
        }
      ]
    },
    {
      "cell_type": "code",
      "metadata": {
        "id": "6OljWIVdxqRr",
        "colab": {
          "base_uri": "https://localhost:8080/"
        },
        "outputId": "7d09f006-9f5e-4984-a62a-9b7a5531e01c"
      },
      "source": [
        "!allennlp predict  'Output_ran_initial/model.tar.gz' 'predictions/when_the_god_of_love_returns_therell_be_hell_to_pay.json' --include-package information_retrieval --predictor retrieval-predictor "
      ],
      "execution_count": null,
      "outputs": [
        {
          "output_type": "stream",
          "text": [
            "2021-01-16 17:21:56.942873: I tensorflow/stream_executor/platform/default/dso_loader.cc:49] Successfully opened dynamic library libcudart.so.10.1\n",
            "2021-01-16 17:21:59,535 - INFO - allennlp.models.archival - loading archive file Output_ran_initial/model.tar.gz\n",
            "2021-01-16 17:21:59,535 - INFO - allennlp.models.archival - extracting archive file Output_ran_initial/model.tar.gz to temp dir /tmp/tmpjgrs60je\n",
            "2021-01-16 17:21:59,621 - INFO - allennlp.common.params - dataset_reader.type = ranker\n",
            "2021-01-16 17:21:59,622 - INFO - allennlp.common.params - dataset_reader.lazy = False\n",
            "2021-01-16 17:21:59,622 - INFO - allennlp.common.params - dataset_reader.cache_directory = None\n",
            "2021-01-16 17:21:59,622 - INFO - allennlp.common.params - dataset_reader.max_instances = None\n",
            "2021-01-16 17:21:59,622 - INFO - allennlp.common.params - dataset_reader.manual_distributed_sharding = False\n",
            "2021-01-16 17:21:59,622 - INFO - allennlp.common.params - dataset_reader.manual_multi_process_sharding = False\n",
            "2021-01-16 17:21:59,623 - INFO - allennlp.common.params - dataset_reader.tokenizer.type = whitespace\n",
            "2021-01-16 17:21:59,623 - INFO - allennlp.common.params - dataset_reader.token_indexers.tokens.type = single_id\n",
            "2021-01-16 17:21:59,623 - INFO - allennlp.common.params - dataset_reader.token_indexers.tokens.namespace = tokens\n",
            "2021-01-16 17:21:59,623 - INFO - allennlp.common.params - dataset_reader.token_indexers.tokens.lowercase_tokens = False\n",
            "2021-01-16 17:21:59,623 - INFO - allennlp.common.params - dataset_reader.token_indexers.tokens.start_tokens = None\n",
            "2021-01-16 17:21:59,623 - INFO - allennlp.common.params - dataset_reader.token_indexers.tokens.end_tokens = None\n",
            "2021-01-16 17:21:59,623 - INFO - allennlp.common.params - dataset_reader.token_indexers.tokens.feature_name = text\n",
            "2021-01-16 17:21:59,623 - INFO - allennlp.common.params - dataset_reader.token_indexers.tokens.default_value = THIS IS A REALLY UNLIKELY VALUE THAT HAS TO BE A STRING\n",
            "2021-01-16 17:21:59,623 - INFO - allennlp.common.params - dataset_reader.token_indexers.tokens.token_min_padding_length = 0\n",
            "2021-01-16 17:21:59,623 - INFO - allennlp.common.params - dataset_reader.max_tokens = None\n",
            "2021-01-16 17:21:59,624 - INFO - allennlp.common.params - dataset_reader.type = ranker\n",
            "2021-01-16 17:21:59,624 - INFO - allennlp.common.params - dataset_reader.lazy = False\n",
            "2021-01-16 17:21:59,624 - INFO - allennlp.common.params - dataset_reader.cache_directory = None\n",
            "2021-01-16 17:21:59,624 - INFO - allennlp.common.params - dataset_reader.max_instances = None\n",
            "2021-01-16 17:21:59,624 - INFO - allennlp.common.params - dataset_reader.manual_distributed_sharding = False\n",
            "2021-01-16 17:21:59,624 - INFO - allennlp.common.params - dataset_reader.manual_multi_process_sharding = False\n",
            "2021-01-16 17:21:59,624 - INFO - allennlp.common.params - dataset_reader.tokenizer.type = whitespace\n",
            "2021-01-16 17:21:59,624 - INFO - allennlp.common.params - dataset_reader.token_indexers.tokens.type = single_id\n",
            "2021-01-16 17:21:59,625 - INFO - allennlp.common.params - dataset_reader.token_indexers.tokens.namespace = tokens\n",
            "2021-01-16 17:21:59,625 - INFO - allennlp.common.params - dataset_reader.token_indexers.tokens.lowercase_tokens = False\n",
            "2021-01-16 17:21:59,625 - INFO - allennlp.common.params - dataset_reader.token_indexers.tokens.start_tokens = None\n",
            "2021-01-16 17:21:59,625 - INFO - allennlp.common.params - dataset_reader.token_indexers.tokens.end_tokens = None\n",
            "2021-01-16 17:21:59,625 - INFO - allennlp.common.params - dataset_reader.token_indexers.tokens.feature_name = text\n",
            "2021-01-16 17:21:59,625 - INFO - allennlp.common.params - dataset_reader.token_indexers.tokens.default_value = THIS IS A REALLY UNLIKELY VALUE THAT HAS TO BE A STRING\n",
            "2021-01-16 17:21:59,625 - INFO - allennlp.common.params - dataset_reader.token_indexers.tokens.token_min_padding_length = 0\n",
            "2021-01-16 17:21:59,625 - INFO - allennlp.common.params - dataset_reader.max_tokens = None\n",
            "2021-01-16 17:21:59,625 - INFO - allennlp.common.params - type = from_instances\n",
            "2021-01-16 17:21:59,625 - INFO - allennlp.data.vocabulary - Loading token dictionary from /tmp/tmpjgrs60je/vocabulary.\n",
            "2021-01-16 17:21:59,631 - INFO - allennlp.common.params - model.type = ranker\n",
            "2021-01-16 17:21:59,631 - INFO - allennlp.common.params - model.regularizer = None\n",
            "2021-01-16 17:21:59,631 - INFO - allennlp.common.params - model.text_field_embedder.type = basic\n",
            "2021-01-16 17:21:59,631 - INFO - allennlp.common.params - model.text_field_embedder.token_embedders.tokens.type = embedding\n",
            "2021-01-16 17:21:59,631 - INFO - allennlp.common.params - model.text_field_embedder.token_embedders.tokens.embedding_dim = 300\n",
            "2021-01-16 17:21:59,632 - INFO - allennlp.common.params - model.text_field_embedder.token_embedders.tokens.num_embeddings = None\n",
            "2021-01-16 17:21:59,632 - INFO - allennlp.common.params - model.text_field_embedder.token_embedders.tokens.projection_dim = None\n",
            "2021-01-16 17:21:59,632 - INFO - allennlp.common.params - model.text_field_embedder.token_embedders.tokens.weight = None\n",
            "2021-01-16 17:21:59,632 - INFO - allennlp.common.params - model.text_field_embedder.token_embedders.tokens.padding_index = None\n",
            "2021-01-16 17:21:59,632 - INFO - allennlp.common.params - model.text_field_embedder.token_embedders.tokens.trainable = True\n",
            "2021-01-16 17:21:59,632 - INFO - allennlp.common.params - model.text_field_embedder.token_embedders.tokens.max_norm = None\n",
            "2021-01-16 17:21:59,632 - INFO - allennlp.common.params - model.text_field_embedder.token_embedders.tokens.norm_type = 2.0\n",
            "2021-01-16 17:21:59,632 - INFO - allennlp.common.params - model.text_field_embedder.token_embedders.tokens.scale_grad_by_freq = False\n",
            "2021-01-16 17:21:59,632 - INFO - allennlp.common.params - model.text_field_embedder.token_embedders.tokens.sparse = False\n",
            "2021-01-16 17:21:59,632 - INFO - allennlp.common.params - model.text_field_embedder.token_embedders.tokens.vocab_namespace = tokens\n",
            "2021-01-16 17:21:59,632 - INFO - allennlp.common.params - model.text_field_embedder.token_embedders.tokens.pretrained_file = None\n",
            "2021-01-16 17:21:59,644 - INFO - allennlp.common.params - model.relevance_matcher.type = boe_encoder\n",
            "2021-01-16 17:21:59,644 - INFO - allennlp.common.params - model.relevance_matcher.input_dim = 300\n",
            "2021-01-16 17:21:59,645 - INFO - allennlp.common.params - model.num_labels = None\n",
            "2021-01-16 17:21:59,645 - INFO - allennlp.common.params - model.initializer = <allennlp.nn.initializers.InitializerApplicator object at 0x7f2815627860>\n",
            "2021-01-16 17:21:59,650 - INFO - allennlp.models.archival - removing temporary unarchived model dir at /tmp/tmpjgrs60je\n",
            "input 0:  {\"lyric\": \"when the god of love returns therell be hell to pay though the world may be out of excuses i know just what i would say: let the seven trumpets sound as a locust sky grows dark but first lets take you on a quick tour of your creations handiwork barely got through the prisons and stores and the pale horse looks a little sick says jesus you didnt leave a whole lot for me if this isnt hell already then tell me what the hell is   and we say its just human human nature this place is savage and unjust we crawled out of the darkness and endured your impatience were more than willing to adjust and now youve got the gall to judge us   the spider spins his web the tiger stalks his prey and we steal fire from the heavens to try to keep the night at bay every monster has a code one that steadies the shaking hand and hes determined to accrue more capital by whatever means he can   oh its just human human nature weve got these appetites to serve you must not know the first thing about human beings were the earths most soulful predator try something less ambitious the next time you get bored oh my lord   we just want light in the dark some warmth in the cold and to make something out of nothing sounds like someone else i know\", \"title_options\": [\"motion sickness\", \"killer\", \"georgia\", \"kyoto\", \"would you rather\", \"killer  the sound\", \"chelsea\", \"i see you\", \"christmas song\", \"prayer in open d\", \"have yourself a merry little christmas\", \"wilt\", \"motion sickness \", \"coming down\", \"appointments\", \"something\", \"rejoice\", \"turn out the lights\", \"good news\", \"shadowboxing\", \"hurt less\", \"brittle boned\", \"funeral pyre\", \"vessels\", \"televangelist\", \"even\", \"decorated lawns\", \"conversation piece\", \"sad song 12  \", \"pillar of truth\", \"the shell\", \"dream state\", \"body to flame\", \"map on a wall\", \"green eyes red face\", \"trust\", \"forever half mast\", \"long walk home \", \"new light\", \"gravity\", \"free fallin\", \"in the blood\", \"youre gonna live forever in me\", \"wildfire interlude\", \"still feel like your man\", \"rosie\", \"emoji of a wave\", \"paper doll\", \"love on the weekend\", \"your body is a wonderland\", \"carry me away\", \"no such thing\", \"never on the day you leave\", \"who you love\", \"xo\", \"neon\", \"why georgia\", \"heartbreak warfare\", \"dear marie\", \"the heart of life\", \"changing\", \"wildfire\", \"im gonna find another you\", \"say\", \"roll it on home\", \"i will be found lost at sea\", \"something like olivia\", \"the age of worry\", \"on the way home\", \"my stupid mouth\", \"covered in rain\", \"3x5\", \"a face to call home\", \"somethings missing\", \"st patricks day\", \"shadow days\", \"badge and gun\", \"wheel\", \"city love\", \"83\", \"if i ever get around to living\", \"love is a verb\", \"call me the breeze\", \"war of my life\", \"victoria\", \"new deep\", \"born and raised reprise\", \"crossroads\", \"the search for everything \", \"fool to love you\", \"home life\", \"hummingbird\", \"i dont need no doctor\", \"go easy on me\", \"\\u200breverie\", \"\\u200bterrified \", \"\\u200blast words \", \"\\u200ball in my mind\", \"\\u200blove aint always so good\", \"\\u200bhollow crown\", \"\\u200brunning on empty\", \"\\u200bthe death of you  i\", \"\\u200bwhen you go\", \"\\u200bshow me love\", \"\\u200bdarkness of the day\", \"\\u200bburn my clothes bury my crown\", \"\\u200banswers\", \"\\u200bhollow crown \", \"\\u200bshow me love \", \"fluorescent adolescent \", \"epilogue\", \"bird\", \"cursive\", \"heavy weather\", \"la lune\", \"lionhearted\", \"cartoon people\", \"emily\", \"green\", \"unaware\", \"ribbon\", \"in for the kill\", \"its a fine day\", \"she dances\", \"hilokil\", \"anchor\", \"weather\", \"birthplace\", \"colourway\", \"repeat until death\", \"holland\", \"i make sparks\", \"oh round lake\", \"so we drift\", \"flay\", \"anchor \", \"real estate\", \"i dont wanna see you cryin anymore\", \"means to a mend\", \"metadata\", \"30 minutes\", \"plan on you\", \"brook revisited\", \"three hours ahead\", \"itsjustmyheart\", \"cryin interlude\", \"between us\", \"rock it regardless\", \"chlorine water\", \"season tickets\", \"calm  forward\", \"cherry wine  live\", \"from eden\", \"work song\", \"nina cried power\", \"angel of small death  the codeine scene\", \"movement\", \"someone new\", \"nfwmb\", \"like real people do\", \"jackie and wilson\", \"wasteland baby\", \"in a week\", \"dinner  diatribes\", \"would that i\", \"talk\", \"as it was\", \"be\", \"it will come back\", \"my love will never die\", \"say my name\", \"blood\", \"nina cried power \", \"devil\", \"the parting glass \", \"sorry not sorry \", \"from eden \", \"god rest ye merry gentlemen \", \"problem \", \"shrike \", \"movement \", \"the trapeze swinger\", \"call it dreaming\", \"naked as we came\", \"upward over the mountain\", \"each coming night\", \"time after time\", \"boy with a coin\", \"passing afternoon\", \"cinder and smoke\", \"the sea and the rhythm\", \"jezebel\", \"claim your ghost\", \"about a bruise\", \"what hurts worse\", \"summer clouds\", \"song in stone\", \"freckled girl\", \"sunset soon forgotten\", \"lions mane\", \"tree by the river\", \"autumn town leaves\", \"the truest stars we know\", \"last night\", \"waves of galveston\", \"free until they cut me down\", \"teeth in the grass\", \"right for sky\", \"house by the sea\", \"joy\", \"belated promise ring\", \"biting your tail\", \"carousel\", \"your sly smile\", \"wolves song of the shepherds dog\", \"promising light\", \"promise\", \"keep your head up\", \"black flies\", \"end of the affair\", \"only love\", \"small things\", \"the fear\", \"gracious\", \"everything\", \"a boat to an island pt 2  agathas song\", \"to be alone\", \"someone in the doorway\", \"burgh island\", \"hot heavy summer\", \"diamonds\", \"empty corridors\", \"under the same sun\", \"follaton wood\", \"i will be blessed\", \"am i in your light\", \"all down the mines interlude\", \"further away\", \"a hand to hold\", \"untitled\", \"let it go\", \"us\", \"incomplete\", \"in my head\", \"fade out\", \"when we were on fire\", \"collide\", \"running\", \"hear your heart\", \"get out while you can\", \"intro\", \"interlude\", \"kings highway\", \"wait in line\", \"sparks\", \"forever\", \"if you want to be in love\", \"time\", \"carcassonne\", \"all your life\", \"truly gone\", \"i could be wrong\", \"all to the wind\", \"haze\", \"fade\", \"a good mans light\", \"more than you thought to use\", \"wanderer\", \"on my way home\", \"dreaming of the moon\", \"old hope\", \"clay dad\", \"tucked in at home\", \"shape of you\", \"perfect\", \"supermarket flowers\", \"galway girl\", \"south of the border\", \"eraser\", \"new man\", \"how would you feel paean\", \"you need me i dont need you \", \"give me love\", \"save myself\", \"lego house\", \"im a mess\", \"bloodstream\", \"take it back\", \"best part of me\", \"small bump\", \"take me back to london \", \"the man\", \"all of the stars\", \"drunk\", \"runaway\", \"even my dad does sometimes\", \"nothing on you\", \"little lady\", \"the parting glass\", \"make it rain\", \"1000 nights\", \"way to break my heart\", \"feels\", \"sunburn\", \"you need me i dont need you \", \"cold coffee\", \"the city\", \"take me back to london \", \"dont \", \"shape of you \", \"she\", \"homeless\", \"baby one more time\", \"gold rush\", \"one night\", \"english rose\", \"be like you\", \"firefly\", \"everything you are\", \"let it out\", \"sofa\", \"chateau lobby 4 in c for two virgins\", \"pure comedy\", \"bored in the usa\", \"mr tillman\", \"total entertainment forever\", \"nothing good ever happens at the goddamn thirsty crow\", \"real love baby\", \"leaving la\", \"the ideal husband\", \"true affection\", \"im writing a novel\", \"things it would have been helpful to know before the revolution\", \"gods favorite customer\", \"hangout at the gallows\", \"please dont die\", \"only son of the ladiesman\", \"the memo\", \"when the god of love returns therell be hell to pay\", \"birdie\", \"the palace\", \"the songwriter\", \"smoochie\", \"now im learning to love the war\", \"tee pees 112\", \"everything is free\", \"pure comedy \"]}\n",
            "prediction:  {\"instance\": {\"logits\": [-0.7625076174736023, -0.8199341297149658, -0.24909785389900208, -0.3107369542121887, -0.40374955534935, -0.37930727005004883, -0.19868668913841248, -0.7722935080528259, -0.33793601393699646, 0.019430823624134064, -0.6326866745948792, -0.47594282031059265, -0.7625076174736023, -0.7800381183624268, -0.3144659698009491, -1.1681714057922363, -0.11257845163345337, -0.3432035446166992, -0.1230599507689476, -0.3983979821205139, -0.21886089444160461, -0.14722785353660583, -0.20439042150974274, -0.276856005191803, -0.168637216091156, -0.2841171622276306, -0.276856005191803, -0.2927325665950775, -0.006735004484653473, -0.3146478533744812, -0.6282780170440674, -0.490439236164093, -0.27612072229385376, -0.12083017826080322, -0.17378711700439453, -0.23558685183525085, -0.31161773204803467, -0.4895218014717102, -0.3274264931678772, -0.20915141701698303, -1.0226075649261475, -0.5010685920715332, -0.4689958691596985, -0.33698365092277527, -0.6072704195976257, -0.2135254144668579, -0.1582096964120865, -0.272580623626709, -0.6707197427749634, -0.47601792216300964, -0.32716765999794006, -0.12678110599517822, -0.40259039402008057, -1.8531577587127686, -0.27081164717674255, -0.276856005191803, -0.3526814579963684, -0.2716459631919861, -0.27894943952560425, -0.26306968927383423, -0.5706233978271484, -0.3154023289680481, -0.3452673852443695, -1.3437397480010986, -0.3484058976173401, -0.4902370870113373, -0.5013242363929749, -0.5285906195640564, -0.6281318664550781, -0.7162538766860962, -0.5543691515922546, -0.2382259964942932, -0.33347299695014954, -0.292928546667099, -0.0619751401245594, -0.29425838589668274, -0.2099137157201767, -0.2252940535545349, -0.8459312319755554, -0.17655962705612183, -0.37739068269729614, -0.5980781316757202, -0.4689311981201172, -0.363943487405777, -0.276856005191803, -0.10617639869451523, -0.8810776472091675, -0.19354157149791718, -0.3722923994064331, -0.4789353907108307, -0.49495601654052734, -0.47266390919685364, -0.8129792213439941, -0.5454906225204468, -0.276856005191803, -0.276856005191803, -0.09518370032310486, -0.4291191101074219, -0.115485280752182, -0.10290999710559845, -0.20404791831970215, -0.2804093360900879, -0.7405303716659546, -1.0862377882003784, -0.20318496227264404, -0.36646515130996704, -0.276856005191803, -0.10290999710559845, -1.0862377882003784, -0.276856005191803, -0.276856005191803, -0.9598697423934937, -0.3356303572654724, -0.41811603307724, -0.197963684797287, -0.25056594610214233, -0.2588805556297302, -0.276856005191803, -0.26011812686920166, -0.011218518018722534, -0.2262454628944397, -0.08653485029935837, -0.4277861714363098, -0.22319439053535461, -0.276856005191803, -0.5191407799720764, -0.4101991057395935, -0.3299204707145691, -0.276856005191803, -0.16839341819286346, -0.6450104117393494, -0.49019134044647217, -0.7648847103118896, -0.308528870344162, -0.38656455278396606, -0.5191407799720764, -0.2854054868221283, -0.6893402338027954, -0.22219222784042358, -0.36771339178085327, -0.26814910769462585, -0.8000539541244507, -0.15109428763389587, -0.3394419550895691, -0.276856005191803, -0.10404206067323685, -0.5366451144218445, -0.3550862669944763, -0.2883444130420685, -0.23910878598690033, -0.47366082668304443, -0.23062729835510254, -0.574966549873352, -0.14147716760635376, -1.4642012119293213, -0.44698667526245117, -0.6516684293746948, -0.43340355157852173, -0.276856005191803, -0.19204309582710266, -0.2311602681875229, -0.18565627932548523, -0.11449301242828369, -0.3378603458404541, -0.45035627484321594, -0.37153497338294983, -0.5321862101554871, -0.931581974029541, -0.3746604323387146, -0.8686622977256775, -0.85930997133255, -0.35433754324913025, -1.4642012119293213, -0.5117274522781372, -0.15579722821712494, -0.4030209183692932, -0.574966549873352, -0.32269778847694397, -0.568493127822876, -0.276856005191803, -0.6516684293746948, -0.09830169379711151, -0.20438170433044434, -0.5058213472366333, -0.24948221445083618, -0.48654475808143616, -0.6213435530662537, -0.44576147198677063, -0.2916467785835266, -0.30749988555908203, -0.3280910551548004, -0.3848341703414917, -0.48206689953804016, -0.19605858623981476, -0.4395584464073181, -0.08509598672389984, -0.119669109582901, -0.2084653079509735, -0.31214097142219543, -0.260165810585022, -0.2819651663303375, -0.12179114669561386, -0.17767450213432312, -0.41447871923446655, -0.20122838020324707, -0.5111688375473022, -1.469177484512329, -0.5849828720092773, -0.3175305128097534, -0.4739457964897156, -0.11362145096063614, -0.27599018812179565, -0.33372461795806885, -0.5243504643440247, -0.27791154384613037, -0.30091726779937744, -0.4804835319519043, -0.7220014929771423, -0.14232131838798523, -0.1892775297164917, -1.173534631729126, -0.2533407211303711, -0.4988425374031067, -0.2963303327560425, -0.4294898509979248, -0.08568109571933746, -0.6896495819091797, -0.2697828412055969, -0.20458990335464478, -0.27577993273735046, 0.23617474734783173, -0.06125832349061966, -1.4973976612091064, -0.4016360640525818, -0.5891725420951843, -1.2871348857879639, -1.3869683742523193, -0.36729949712753296, -0.23772159218788147, -0.276856005191803, -0.5223039388656616, -0.6577863693237305, -0.2005770206451416, -0.4506523609161377, 0.06833487749099731, -0.4506222605705261, -0.276856005191803, -0.3853239119052887, -0.8394896984100342, -0.44567710161209106, -0.276856005191803, -0.26545703411102295, -0.009438320994377136, -0.6111157536506653, -0.341233491897583, -0.6726719737052917, -0.7481914758682251, -0.38337796926498413, -0.20755864679813385, -0.6127393841743469, -0.30804020166397095, -0.6752524375915527, -0.26608964800834656, 0.06589881330728531, 0.13150450587272644, -0.2626941502094269, -0.45375487208366394, -0.18763762712478638, -0.9141001105308533, -0.34084251523017883, -0.2528594136238098, -0.081617571413517, -0.3016846179962158, -0.6024150252342224, -0.22209729254245758, -0.13553079962730408, -0.18672770261764526, -0.25358518958091736, -0.2070249766111374, -0.3259041905403137, -0.48945289850234985, -0.8875607848167419, -1.7056188583374023, -0.07670370489358902, -0.19329588115215302, -0.5989720821380615, -0.36101800203323364, -0.3505045175552368, -0.25052905082702637, -0.2994617819786072, -0.3451669216156006, -0.23631246387958527, -0.3457220792770386, -0.343320369720459, -0.06622391939163208, -0.3372109532356262, -0.7137134075164795, -0.6369003057479858, -0.15579722821712494, -1.2983237504959106, -0.22651159763336182, -0.49432864785194397, -0.4781084358692169, -0.2958911955356598, -0.8875607848167419, -0.37434735894203186, -0.5120237469673157, -0.3451669216156006, -1.7439382076263428, -0.6024150252342224, -0.4133754074573517, -0.3000568747520447, -0.2235928773880005, -0.3937366008758545, -0.2942410111427307, -0.36811384558677673, -0.6963302493095398, -0.37930038571357727, -0.4964969754219055, -0.7141257524490356, -0.34192562103271484, -0.06024125963449478, -0.06589604914188385, -0.32499033212661743, -0.20148074626922607, -0.12707306444644928, -0.026904093101620674, -0.7389880418777466, -0.02393045835196972, -0.2976301610469818, -0.5588027238845825, -0.10356698930263519, -0.08503842353820801, -0.2206037938594818, -0.2550584673881531, -0.6355932354927063, -0.17229077219963074, -0.2480255663394928, -0.08037623763084412, -0.3183647692203522, -0.3410433232784271, -0.10292242467403412, -0.5477463006973267, -0.04765518754720688, -0.25254005193710327, -0.44683846831321716, -0.06589604914188385], \"lyric\": [\"when\", \"the\", \"god\", \"of\", \"love\", \"returns\", \"therell\", \"be\", \"hell\", \"to\", \"pay\", \"though\", \"the\", \"world\", \"may\", \"be\", \"out\", \"of\", \"excuses\", \"i\", \"know\", \"just\", \"what\", \"i\", \"would\", \"say:\", \"let\", \"the\", \"seven\", \"trumpets\", \"sound\", \"as\", \"a\", \"locust\", \"sky\", \"grows\", \"dark\", \"but\", \"first\", \"lets\", \"take\", \"you\", \"on\", \"a\", \"quick\", \"tour\", \"of\", \"your\", \"creations\", \"handiwork\", \"barely\", \"got\", \"through\", \"the\", \"prisons\", \"and\", \"stores\", \"and\", \"the\", \"pale\", \"horse\", \"looks\", \"a\", \"little\", \"sick\", \"says\", \"jesus\", \"you\", \"didnt\", \"leave\", \"a\", \"whole\", \"lot\", \"for\", \"me\", \"if\", \"this\", \"isnt\", \"hell\", \"already\", \"then\", \"tell\", \"me\", \"what\", \"the\", \"hell\", \"is\", \"and\", \"we\", \"say\", \"its\", \"just\", \"human\", \"human\", \"nature\", \"this\", \"place\", \"is\", \"savage\", \"and\", \"unjust\", \"we\", \"crawled\", \"out\", \"of\", \"the\", \"darkness\", \"and\", \"endured\", \"your\", \"impatience\", \"were\", \"more\", \"than\", \"willing\", \"to\", \"adjust\", \"and\", \"now\", \"youve\", \"got\", \"the\", \"gall\", \"to\", \"judge\", \"us\", \"the\", \"spider\", \"spins\", \"his\", \"web\", \"the\", \"tiger\", \"stalks\", \"his\", \"prey\", \"and\", \"we\", \"steal\", \"fire\", \"from\", \"the\", \"heavens\", \"to\", \"try\", \"to\", \"keep\", \"the\", \"night\", \"at\", \"bay\", \"every\", \"monster\", \"has\", \"a\", \"code\", \"one\", \"that\", \"steadies\", \"the\", \"shaking\", \"hand\", \"and\", \"hes\", \"determined\", \"to\", \"accrue\", \"more\", \"capital\", \"by\", \"whatever\", \"means\", \"he\", \"can\", \"oh\", \"its\", \"just\", \"human\", \"human\", \"nature\", \"weve\", \"got\", \"these\", \"appetites\", \"to\", \"serve\", \"you\", \"must\", \"not\", \"know\", \"the\", \"first\", \"thing\", \"about\", \"human\", \"beings\", \"were\", \"the\", \"earths\", \"most\", \"soulful\", \"predator\", \"try\", \"something\", \"less\", \"ambitious\", \"the\", \"next\", \"time\", \"you\", \"get\", \"bored\", \"oh\", \"my\", \"lord\", \"we\", \"just\", \"want\", \"light\", \"in\", \"the\", \"dark\", \"some\", \"warmth\", \"in\", \"the\", \"cold\", \"and\", \"to\", \"make\", \"something\", \"out\", \"of\", \"nothing\", \"sounds\", \"like\", \"someone\", \"else\", \"i\", \"know\"], \"predicted_title\": [\"diamonds\"], \"top_5_predected_titles\": [\"[diamonds]\", \"[fade]\", \"[fade, out]\", \"[haze]\", \"[prayer, in, open, d]\"]}}\n",
            "\n"
          ],
          "name": "stdout"
        }
      ]
    },
    {
      "cell_type": "code",
      "metadata": {
        "colab": {
          "base_uri": "https://localhost:8080/"
        },
        "id": "xzTpOCVSGDgd",
        "outputId": "541e8deb-6809-4b9d-e5f1-55e2dcef4e2a"
      },
      "source": [
        "!allennlp predict  'Output_bert_cls/model.tar.gz' 'predictions/brittle_boned.json' --include-package information_retrieval --predictor retrieval-predictor "
      ],
      "execution_count": null,
      "outputs": [
        {
          "output_type": "stream",
          "text": [
            "2021-01-16 17:28:02.824584: I tensorflow/stream_executor/platform/default/dso_loader.cc:49] Successfully opened dynamic library libcudart.so.10.1\n",
            "2021-01-16 17:28:05,425 - INFO - allennlp.models.archival - loading archive file Output_bert_cls/model.tar.gz\n",
            "2021-01-16 17:28:05,425 - INFO - allennlp.models.archival - extracting archive file Output_bert_cls/model.tar.gz to temp dir /tmp/tmp2zpn3p9p\n",
            "2021-01-16 17:28:05,598 - INFO - allennlp.common.params - dataset_reader.type = ranker\n",
            "2021-01-16 17:28:05,599 - INFO - allennlp.common.params - dataset_reader.lazy = False\n",
            "2021-01-16 17:28:05,599 - INFO - allennlp.common.params - dataset_reader.cache_directory = None\n",
            "2021-01-16 17:28:05,599 - INFO - allennlp.common.params - dataset_reader.max_instances = None\n",
            "2021-01-16 17:28:05,599 - INFO - allennlp.common.params - dataset_reader.manual_distributed_sharding = False\n",
            "2021-01-16 17:28:05,599 - INFO - allennlp.common.params - dataset_reader.manual_multi_process_sharding = False\n",
            "2021-01-16 17:28:05,600 - INFO - allennlp.common.params - dataset_reader.tokenizer.type = pretrained_transformer\n",
            "2021-01-16 17:28:05,600 - INFO - allennlp.common.params - dataset_reader.tokenizer.model_name = google/bert_uncased_L-2_H-128_A-2\n",
            "2021-01-16 17:28:05,600 - INFO - allennlp.common.params - dataset_reader.tokenizer.add_special_tokens = True\n",
            "2021-01-16 17:28:05,600 - INFO - allennlp.common.params - dataset_reader.tokenizer.max_length = 512\n",
            "2021-01-16 17:28:05,600 - INFO - allennlp.common.params - dataset_reader.tokenizer.stride = 0\n",
            "2021-01-16 17:28:05,600 - INFO - allennlp.common.params - dataset_reader.tokenizer.tokenizer_kwargs = None\n",
            "2021-01-16 17:28:05,881 - INFO - allennlp.common.params - dataset_reader.token_indexers.tokens.type = pretrained_transformer\n",
            "2021-01-16 17:28:05,881 - INFO - allennlp.common.params - dataset_reader.token_indexers.tokens.token_min_padding_length = 0\n",
            "2021-01-16 17:28:05,881 - INFO - allennlp.common.params - dataset_reader.token_indexers.tokens.model_name = google/bert_uncased_L-2_H-128_A-2\n",
            "2021-01-16 17:28:05,881 - INFO - allennlp.common.params - dataset_reader.token_indexers.tokens.namespace = tags\n",
            "2021-01-16 17:28:05,882 - INFO - allennlp.common.params - dataset_reader.token_indexers.tokens.max_length = 512\n",
            "2021-01-16 17:28:05,882 - INFO - allennlp.common.params - dataset_reader.token_indexers.tokens.tokenizer_kwargs = None\n",
            "2021-01-16 17:28:05,882 - INFO - allennlp.common.params - dataset_reader.max_tokens = 50000\n",
            "2021-01-16 17:28:05,882 - INFO - allennlp.common.params - dataset_reader.type = ranker\n",
            "2021-01-16 17:28:05,883 - INFO - allennlp.common.params - dataset_reader.lazy = False\n",
            "2021-01-16 17:28:05,883 - INFO - allennlp.common.params - dataset_reader.cache_directory = None\n",
            "2021-01-16 17:28:05,883 - INFO - allennlp.common.params - dataset_reader.max_instances = None\n",
            "2021-01-16 17:28:05,883 - INFO - allennlp.common.params - dataset_reader.manual_distributed_sharding = False\n",
            "2021-01-16 17:28:05,883 - INFO - allennlp.common.params - dataset_reader.manual_multi_process_sharding = False\n",
            "2021-01-16 17:28:05,883 - INFO - allennlp.common.params - dataset_reader.tokenizer.type = pretrained_transformer\n",
            "2021-01-16 17:28:05,883 - INFO - allennlp.common.params - dataset_reader.tokenizer.model_name = google/bert_uncased_L-2_H-128_A-2\n",
            "2021-01-16 17:28:05,883 - INFO - allennlp.common.params - dataset_reader.tokenizer.add_special_tokens = True\n",
            "2021-01-16 17:28:05,883 - INFO - allennlp.common.params - dataset_reader.tokenizer.max_length = 512\n",
            "2021-01-16 17:28:05,883 - INFO - allennlp.common.params - dataset_reader.tokenizer.stride = 0\n",
            "2021-01-16 17:28:05,884 - INFO - allennlp.common.params - dataset_reader.tokenizer.tokenizer_kwargs = None\n",
            "2021-01-16 17:28:05,884 - INFO - allennlp.common.params - dataset_reader.token_indexers.tokens.type = pretrained_transformer\n",
            "2021-01-16 17:28:05,884 - INFO - allennlp.common.params - dataset_reader.token_indexers.tokens.token_min_padding_length = 0\n",
            "2021-01-16 17:28:05,884 - INFO - allennlp.common.params - dataset_reader.token_indexers.tokens.model_name = google/bert_uncased_L-2_H-128_A-2\n",
            "2021-01-16 17:28:05,884 - INFO - allennlp.common.params - dataset_reader.token_indexers.tokens.namespace = tags\n",
            "2021-01-16 17:28:05,885 - INFO - allennlp.common.params - dataset_reader.token_indexers.tokens.max_length = 512\n",
            "2021-01-16 17:28:05,885 - INFO - allennlp.common.params - dataset_reader.token_indexers.tokens.tokenizer_kwargs = None\n",
            "2021-01-16 17:28:05,885 - INFO - allennlp.common.params - dataset_reader.max_tokens = 50000\n",
            "2021-01-16 17:28:05,885 - INFO - allennlp.common.params - type = from_instances\n",
            "2021-01-16 17:28:05,885 - INFO - allennlp.data.vocabulary - Loading token dictionary from /tmp/tmp2zpn3p9p/vocabulary.\n",
            "2021-01-16 17:28:05,887 - INFO - allennlp.common.params - model.type = ranker\n",
            "2021-01-16 17:28:05,887 - INFO - allennlp.common.params - model.regularizer = None\n",
            "2021-01-16 17:28:05,887 - INFO - allennlp.common.params - model.text_field_embedder.type = basic\n",
            "2021-01-16 17:28:05,888 - INFO - allennlp.common.params - model.text_field_embedder.token_embedders.tokens.type = pretrained_transformer\n",
            "2021-01-16 17:28:05,888 - INFO - allennlp.common.params - model.text_field_embedder.token_embedders.tokens.model_name = google/bert_uncased_L-2_H-128_A-2\n",
            "2021-01-16 17:28:05,888 - INFO - allennlp.common.params - model.text_field_embedder.token_embedders.tokens.max_length = 512\n",
            "2021-01-16 17:28:05,888 - INFO - allennlp.common.params - model.text_field_embedder.token_embedders.tokens.sub_module = None\n",
            "2021-01-16 17:28:05,888 - INFO - allennlp.common.params - model.text_field_embedder.token_embedders.tokens.train_parameters = True\n",
            "2021-01-16 17:28:05,888 - INFO - allennlp.common.params - model.text_field_embedder.token_embedders.tokens.last_layer_only = True\n",
            "2021-01-16 17:28:05,888 - INFO - allennlp.common.params - model.text_field_embedder.token_embedders.tokens.override_weights_file = None\n",
            "2021-01-16 17:28:05,888 - INFO - allennlp.common.params - model.text_field_embedder.token_embedders.tokens.override_weights_strip_prefix = None\n",
            "2021-01-16 17:28:05,888 - INFO - allennlp.common.params - model.text_field_embedder.token_embedders.tokens.gradient_checkpointing = None\n",
            "2021-01-16 17:28:05,888 - INFO - allennlp.common.params - model.text_field_embedder.token_embedders.tokens.tokenizer_kwargs = None\n",
            "2021-01-16 17:28:05,888 - INFO - allennlp.common.params - model.text_field_embedder.token_embedders.tokens.transformer_kwargs = None\n",
            "2021-01-16 17:28:06,041 - INFO - allennlp.common.params - model.relevance_matcher.type = bert_cls\n",
            "2021-01-16 17:28:06,042 - INFO - allennlp.common.params - model.relevance_matcher.input_dim = 128\n",
            "2021-01-16 17:28:06,042 - INFO - allennlp.common.params - model.num_labels = None\n",
            "2021-01-16 17:28:06,042 - INFO - allennlp.common.params - model.initializer = <allennlp.nn.initializers.InitializerApplicator object at 0x7f33d28aec50>\n",
            "2021-01-16 17:28:06,053 - INFO - allennlp.models.archival - removing temporary unarchived model dir at /tmp/tmp2zpn3p9p\n",
            "Truncation was not explicitly activated but `max_length` is provided a specific value, please use `truncation=True` to explicitly truncate examples to max length. Defaulting to 'longest_first' truncation strategy. If you encode pairs of sequences (GLUE-style) with the tokenizer you can select this strategy more precisely by providing a specific strategy to `truncation`.\n",
            "input 0:  {\"lyric\": \" the low electric glow \\u2013 static snows in the lobby dull tv magazines waiting rooms cant hide me from the sting paper sheets bloodwork and the iv and the whirring machines while the nurses reassure me: this will be quick and easy im not gonna feel a thing lie and say itll be alright like a stray falling asleep cause im so good at hurting myself  pulse is slow faint metronome on my left side beneath my protruding spine you can hardly hear at night white flag blindfold covering my sunken eyes and a line of rifles aimed at my sick mind  cause im so good at hurting myself\", \"title_options\": [\"motion sickness\", \"killer\", \"georgia\", \"kyoto\", \"would you rather\", \"killer  the sound\", \"chelsea\", \"i see you\", \"christmas song\", \"prayer in open d\", \"have yourself a merry little christmas\", \"wilt\", \"motion sickness \", \"coming down\", \"appointments\", \"something\", \"rejoice\", \"turn out the lights\", \"good news\", \"shadowboxing\", \"hurt less\", \"brittle boned\", \"funeral pyre\", \"vessels\", \"televangelist\", \"even\", \"decorated lawns\", \"conversation piece\", \"sad song 12  \", \"pillar of truth\", \"the shell\", \"dream state\", \"body to flame\", \"map on a wall\", \"green eyes red face\", \"trust\", \"forever half mast\", \"long walk home \", \"new light\", \"gravity\", \"free fallin\", \"in the blood\", \"youre gonna live forever in me\", \"wildfire interlude\", \"still feel like your man\", \"rosie\", \"emoji of a wave\", \"paper doll\", \"love on the weekend\", \"your body is a wonderland\", \"carry me away\", \"no such thing\", \"never on the day you leave\", \"who you love\", \"xo\", \"neon\", \"why georgia\", \"heartbreak warfare\", \"dear marie\", \"the heart of life\", \"changing\", \"wildfire\", \"im gonna find another you\", \"say\", \"roll it on home\", \"i will be found lost at sea\", \"something like olivia\", \"the age of worry\", \"on the way home\", \"my stupid mouth\", \"covered in rain\", \"3x5\", \"a face to call home\", \"somethings missing\", \"st patricks day\", \"shadow days\", \"badge and gun\", \"wheel\", \"city love\", \"83\", \"if i ever get around to living\", \"love is a verb\", \"call me the breeze\", \"war of my life\", \"victoria\", \"new deep\", \"born and raised reprise\", \"crossroads\", \"the search for everything \", \"fool to love you\", \"home life\", \"hummingbird\", \"i dont need no doctor\", \"go easy on me\", \"\\u200breverie\", \"\\u200bterrified \", \"\\u200blast words \", \"\\u200ball in my mind\", \"\\u200blove aint always so good\", \"\\u200bhollow crown\", \"\\u200brunning on empty\", \"\\u200bthe death of you  i\", \"\\u200bwhen you go\", \"\\u200bshow me love\", \"\\u200bdarkness of the day\", \"\\u200bburn my clothes bury my crown\", \"\\u200banswers\", \"\\u200bhollow crown \", \"\\u200bshow me love \", \"fluorescent adolescent \", \"epilogue\", \"bird\", \"cursive\", \"heavy weather\", \"la lune\", \"lionhearted\", \"cartoon people\", \"emily\", \"green\", \"unaware\", \"ribbon\", \"in for the kill\", \"its a fine day\", \"she dances\", \"hilokil\", \"anchor\", \"weather\", \"birthplace\", \"colourway\", \"repeat until death\", \"holland\", \"i make sparks\", \"oh round lake\", \"so we drift\", \"flay\", \"anchor \", \"real estate\", \"i dont wanna see you cryin anymore\", \"means to a mend\", \"metadata\", \"30 minutes\", \"plan on you\", \"brook revisited\", \"three hours ahead\", \"itsjustmyheart\", \"cryin interlude\", \"between us\", \"rock it regardless\", \"chlorine water\", \"season tickets\", \"calm  forward\", \"cherry wine  live\", \"from eden\", \"work song\", \"nina cried power\", \"angel of small death  the codeine scene\", \"movement\", \"someone new\", \"nfwmb\", \"like real people do\", \"jackie and wilson\", \"wasteland baby\", \"in a week\", \"dinner  diatribes\", \"would that i\", \"talk\", \"as it was\", \"be\", \"it will come back\", \"my love will never die\", \"say my name\", \"blood\", \"nina cried power \", \"devil\", \"the parting glass \", \"sorry not sorry \", \"from eden \", \"god rest ye merry gentlemen \", \"problem \", \"shrike \", \"movement \", \"the trapeze swinger\", \"call it dreaming\", \"naked as we came\", \"upward over the mountain\", \"each coming night\", \"time after time\", \"boy with a coin\", \"passing afternoon\", \"cinder and smoke\", \"the sea and the rhythm\", \"jezebel\", \"claim your ghost\", \"about a bruise\", \"what hurts worse\", \"summer clouds\", \"song in stone\", \"freckled girl\", \"sunset soon forgotten\", \"lions mane\", \"tree by the river\", \"autumn town leaves\", \"the truest stars we know\", \"last night\", \"waves of galveston\", \"free until they cut me down\", \"teeth in the grass\", \"right for sky\", \"house by the sea\", \"joy\", \"belated promise ring\", \"biting your tail\", \"carousel\", \"your sly smile\", \"wolves song of the shepherds dog\", \"promising light\", \"promise\", \"keep your head up\", \"black flies\", \"end of the affair\", \"only love\", \"small things\", \"the fear\", \"gracious\", \"everything\", \"a boat to an island pt 2  agathas song\", \"to be alone\", \"someone in the doorway\", \"burgh island\", \"hot heavy summer\", \"diamonds\", \"empty corridors\", \"under the same sun\", \"follaton wood\", \"i will be blessed\", \"am i in your light\", \"all down the mines interlude\", \"further away\", \"a hand to hold\", \"untitled\", \"let it go\", \"us\", \"incomplete\", \"in my head\", \"fade out\", \"when we were on fire\", \"collide\", \"running\", \"hear your heart\", \"get out while you can\", \"intro\", \"interlude\", \"kings highway\", \"wait in line\", \"sparks\", \"forever\", \"if you want to be in love\", \"time\", \"carcassonne\", \"all your life\", \"truly gone\", \"i could be wrong\", \"all to the wind\", \"haze\", \"fade\", \"a good mans light\", \"more than you thought to use\", \"wanderer\", \"on my way home\", \"dreaming of the moon\", \"old hope\", \"clay dad\", \"tucked in at home\", \"shape of you\", \"perfect\", \"supermarket flowers\", \"galway girl\", \"south of the border\", \"eraser\", \"new man\", \"how would you feel paean\", \"you need me i dont need you \", \"give me love\", \"save myself\", \"lego house\", \"im a mess\", \"bloodstream\", \"take it back\", \"best part of me\", \"small bump\", \"take me back to london \", \"the man\", \"all of the stars\", \"drunk\", \"runaway\", \"even my dad does sometimes\", \"nothing on you\", \"little lady\", \"the parting glass\", \"make it rain\", \"1000 nights\", \"way to break my heart\", \"feels\", \"sunburn\", \"you need me i dont need you \", \"cold coffee\", \"the city\", \"take me back to london \", \"dont \", \"shape of you \", \"she\", \"homeless\", \"baby one more time\", \"gold rush\", \"one night\", \"english rose\", \"be like you\", \"firefly\", \"everything you are\", \"let it out\", \"sofa\", \"chateau lobby 4 in c for two virgins\", \"pure comedy\", \"bored in the usa\", \"mr tillman\", \"total entertainment forever\", \"nothing good ever happens at the goddamn thirsty crow\", \"real love baby\", \"leaving la\", \"the ideal husband\", \"true affection\", \"im writing a novel\", \"things it would have been helpful to know before the revolution\", \"gods favorite customer\", \"hangout at the gallows\", \"please dont die\", \"only son of the ladiesman\", \"the memo\", \"when the god of love returns therell be hell to pay\", \"birdie\", \"the palace\", \"the songwriter\", \"smoochie\", \"now im learning to love the war\", \"tee pees 112\", \"everything is free\", \"pure comedy \"]}\n",
            "prediction:  {\"instance\": {\"logits\": [-1.3334749937057495, -11.032377243041992, -8.942704200744629, -3.7861685752868652, -13.238527297973633, -8.194722175598145, -9.654899597167969, -5.994708061218262, -8.138790130615234, -5.54636812210083, -11.599468231201172, -5.473887920379639, -1.3334749937057495, -6.8647003173828125, -6.216536521911621, -9.355154037475586, -8.942245483398438, 2.6215460300445557, -9.758563995361328, 0.6352457404136658, -6.357942581176758, -4.254530429840088, -2.980987787246704, -1.325181245803833, -4.7211198806762695, -8.945357322692871, 1.6341830492019653, -3.505533218383789, -7.33598518371582, -4.985532760620117, -1.0740491151809692, -8.33324909210205, -3.891785144805908, -2.276153564453125, -3.387411117553711, -8.50670051574707, -6.624114036560059, -9.891725540161133, -3.3292791843414307, -4.773797988891602, -8.878670692443848, -6.666407585144043, -13.707328796386719, -3.3501834869384766, -10.793575286865234, -8.013394355773926, -2.0671725273132324, -1.6004877090454102, -10.215575218200684, -7.763653755187988, -3.2738699913024902, -13.110933303833008, -13.478126525878906, -14.06209945678711, -2.3258843421936035, -2.4687676429748535, -14.323087692260742, -8.37989616394043, -10.683717727661133, -7.636430263519287, -8.420660018920898, -7.05423641204834, -13.672335624694824, -10.936965942382812, -2.938555955886841, -12.829991340637207, -8.574423789978027, -8.976253509521484, -9.480005264282227, -7.40518856048584, -6.548562526702881, 0.05608367919921875, -4.4575300216674805, -8.752236366271973, -10.02733039855957, -7.101004600524902, 0.6179616451263428, 0.2816393971443176, -9.703469276428223, -6.050020217895508, -13.817401885986328, -12.914737701416016, -3.4576187133789062, -5.214860439300537, -5.843841075897217, -10.525829315185547, -7.906366348266602, -8.56843090057373, -7.667470455169678, -11.090341567993164, -9.557101249694824, -4.459908485412598, -8.614179611206055, -6.474932670593262, -4.6882004737854, -8.187356948852539, -4.895913124084473, -6.3887834548950195, -14.48542594909668, -3.006319284439087, -2.6877121925354004, -8.3057861328125, -11.960150718688965, -7.948981285095215, -6.560434341430664, -5.356315612792969, -8.360063552856445, -3.006319284439087, -7.948981285095215, -3.6533188819885254, -6.526554107666016, -10.648460388183594, -6.969411373138428, -2.288573741912842, -6.995290756225586, -6.142391204833984, -3.8325719833374023, -7.671688079833984, -6.524099349975586, -8.009742736816406, -0.20236074924468994, -10.496636390686035, -10.956893920898438, -6.03468656539917, -1.7806365489959717, -5.828560829162598, -5.678646087646484, -11.29326057434082, -2.7286295890808105, -8.465336799621582, -8.286669731140137, -0.41614389419555664, -9.035500526428223, -7.388322830200195, -7.4931559562683105, -5.828560829162598, -12.859445571899414, -9.041543960571289, -9.19589900970459, -4.536141872406006, -4.374255180358887, -7.987097263336182, -7.455112457275391, -6.15409517288208, -5.096342086791992, -4.936859130859375, -3.1387293338775635, -8.921785354614258, -4.518648147583008, -5.2799458503723145, -7.290792942047119, -9.890968322753906, -8.536462783813477, -5.358036041259766, -7.734376907348633, -7.161618709564209, -4.995111465454102, -13.974221229553223, -2.412372589111328, -14.281425476074219, -3.4300451278686523, -11.343818664550781, -7.943686008453369, -12.25052547454834, -9.142061233520508, -10.957937240600586, -6.933621883392334, -9.601046562194824, -11.850591659545898, -16.522911071777344, -10.659854888916016, -6.401226043701172, -7.734376907348633, -7.1884379386901855, -3.3912370204925537, -11.811467170715332, -8.536462783813477, -10.622369766235352, -9.632583618164062, -3.0114307403564453, -4.995111465454102, -5.539318084716797, -9.739875793457031, -8.291412353515625, -4.127754211425781, -8.52525806427002, -9.162861824035645, -1.7176254987716675, -4.924128532409668, 0.6705607175827026, -2.923496961593628, -9.812082290649414, -13.320755958557129, -5.512240409851074, -13.251622200012207, -3.862107753753662, -5.973196983337402, -8.504945755004883, -8.768954277038574, -6.9128265380859375, -5.130251407623291, -6.350780487060547, -11.969956398010254, -6.20521354675293, -1.976610541343689, -2.0094382762908936, -5.503087043762207, -4.068789958953857, -3.988981008529663, -7.853708267211914, -10.034302711486816, -4.418522357940674, -1.2254745960235596, -6.812200546264648, -8.553035736083984, -3.6966729164123535, -14.351947784423828, -10.703810691833496, -4.6326823234558105, -9.018377304077148, -13.835149765014648, -5.952977180480957, -12.261835098266602, -8.335908889770508, -12.832688331604004, -1.6595821380615234, -14.790624618530273, -3.882913589477539, -6.876152038574219, -5.865717887878418, -4.786455154418945, -1.5241549015045166, -8.359119415283203, -2.4133758544921875, -14.495837211608887, -3.8557686805725098, -0.24126428365707397, -3.1996421813964844, -4.207067489624023, -4.114485740661621, -12.357564926147461, -4.926509380340576, -5.233786106109619, -8.366673469543457, -3.5861876010894775, -2.6606974601745605, -3.2386298179626465, -4.067525863647461, -6.481172561645508, -5.048473834991455, -5.07474422454834, -2.9450345039367676, -6.230443954467773, -3.9798707962036133, 0.969446063041687, -12.67831039428711, -14.654319763183594, -8.650057792663574, -5.069802284240723, -11.915631294250488, -14.16183090209961, -13.213203430175781, -0.530207633972168, -2.4066414833068848, -5.733514785766602, -6.917789936065674, -10.96639633178711, -7.598267555236816, -9.496197700500488, -9.411872863769531, -15.200926780700684, -10.611410140991211, -4.543795585632324, -4.150986194610596, -9.390535354614258, -2.4173097610473633, -10.299264907836914, -5.3742594718933105, -4.019466400146484, -10.533044815063477, -10.254154205322266, -10.52281379699707, -9.075950622558594, -9.907024383544922, -6.507631301879883, -5.914512634277344, -3.2562968730926514, -3.2420060634613037, -7.764810085296631, -3.1770052909851074, -3.2215917110443115, -8.473228454589844, -3.4028944969177246, -7.3180999755859375, -8.30461597442627, -12.333589553833008, -4.532162666320801, -11.612464904785156, -3.3912370204925537, -8.110894203186035, -4.545685768127441, -6.534672260284424, -11.079038619995117, -4.115739822387695, -10.52281379699707, -8.385385513305664, -5.97776985168457, -3.2215917110443115, -7.473874568939209, -4.150986194610596, -8.419118881225586, -11.23666763305664, -10.500267028808594, -2.250718116760254, -5.531080722808838, -7.43252420425415, -10.741479873657227, -3.808831214904785, -14.41360855102539, -4.315364837646484, -5.694106578826904, -8.359469413757324, -6.810327529907227, -9.100027084350586, -5.402557849884033, -8.28335189819336, -13.723029136657715, -14.375574111938477, -9.068323135375977, -12.56147289276123, -14.746122360229492, -7.2517595291137695, -9.602645874023438, -8.143753051757812, -4.1468400955200195, -13.361417770385742, -7.497931003570557, -2.992285966873169, -14.20396614074707, -10.48184585571289, -4.461426734924316, -9.396034240722656, -1.942446231842041, -7.246281623840332, 0.08079612255096436, -11.550680160522461, -6.810327529907227], \"lyric\": [\"[CLS]\", \"the\", \"low\", \"electric\", \"glow\", \"\\u2013\", \"static\", \"snow\", \"##s\", \"in\", \"the\", \"lobby\", \"dull\", \"tv\", \"magazines\", \"waiting\", \"rooms\", \"can\", \"##t\", \"hide\", \"me\", \"from\", \"the\", \"sting\", \"paper\", \"sheets\", \"blood\", \"##work\", \"and\", \"the\", \"iv\", \"and\", \"the\", \"w\", \"##hir\", \"##ring\", \"machines\", \"while\", \"the\", \"nurses\", \"reassure\", \"me\", \":\", \"this\", \"will\", \"be\", \"quick\", \"and\", \"easy\", \"im\", \"not\", \"gonna\", \"feel\", \"a\", \"thing\", \"lie\", \"and\", \"say\", \"it\", \"##ll\", \"be\", \"alright\", \"like\", \"a\", \"stray\", \"falling\", \"asleep\", \"cause\", \"im\", \"so\", \"good\", \"at\", \"hurting\", \"myself\", \"pulse\", \"is\", \"slow\", \"faint\", \"metro\", \"##no\", \"##me\", \"on\", \"my\", \"left\", \"side\", \"beneath\", \"my\", \"protruding\", \"spine\", \"you\", \"can\", \"hardly\", \"hear\", \"at\", \"night\", \"white\", \"flag\", \"blind\", \"##fold\", \"covering\", \"my\", \"sunken\", \"eyes\", \"and\", \"a\", \"line\", \"of\", \"rifles\", \"aimed\", \"at\", \"my\", \"sick\", \"mind\", \"cause\", \"im\", \"so\", \"good\", \"at\", \"hurting\", \"myself\", \"[SEP]\"], \"predicted_title\": [\"[CLS]\", \"turn\", \"out\", \"the\", \"lights\", \"[SEP]\"], \"top_5_predected_titles\": [\"[[CLS], turn, out, the, lights, [SEP]]\", \"[[CLS], decorated, lawn, ##s, [SEP]]\", \"[[CLS], sparks, [SEP]]\", \"[[CLS], cinder, and, smoke, [SEP]]\", \"[[CLS], shadow, ##box, ##ing, [SEP]]\"]}}\n",
            "\n"
          ],
          "name": "stdout"
        }
      ]
    }
  ]
}