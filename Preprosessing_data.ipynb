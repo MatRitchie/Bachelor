{
  "nbformat": 4,
  "nbformat_minor": 0,
  "metadata": {
    "colab": {
      "name": "Preprosessing_data.ipynb",
      "provenance": [],
      "collapsed_sections": [],
      "authorship_tag": "ABX9TyNHZMRbXuYXn+0g1EZG/6ol",
      "include_colab_link": true
    },
    "kernelspec": {
      "name": "python3",
      "display_name": "Python 3"
    },
    "accelerator": "GPU"
  },
  "cells": [
    {
      "cell_type": "markdown",
      "metadata": {
        "id": "view-in-github",
        "colab_type": "text"
      },
      "source": [
        "<a href=\"https://colab.research.google.com/github/MatRitchie/Bachelor/blob/main/Preprosessing_data.ipynb\" target=\"_parent\"><img src=\"https://colab.research.google.com/assets/colab-badge.svg\" alt=\"Open In Colab\"/></a>"
      ]
    },
    {
      "cell_type": "markdown",
      "metadata": {
        "id": "ABc9tu8pHSU_"
      },
      "source": [
        "# Installations"
      ]
    },
    {
      "cell_type": "code",
      "metadata": {
        "id": "cM0cV2YvD7ka",
        "colab": {
          "base_uri": "https://localhost:8080/"
        },
        "outputId": "5ab18da2-a457-4db2-f425-9cbd3172e4b5"
      },
      "source": [
        "!pip install nltk"
      ],
      "execution_count": null,
      "outputs": [
        {
          "output_type": "stream",
          "text": [
            "Requirement already satisfied: nltk in /usr/local/lib/python3.6/dist-packages (3.2.5)\n",
            "Requirement already satisfied: six in /usr/local/lib/python3.6/dist-packages (from nltk) (1.15.0)\n"
          ],
          "name": "stdout"
        }
      ]
    },
    {
      "cell_type": "code",
      "metadata": {
        "id": "PP9jxRe2GPMB",
        "colab": {
          "base_uri": "https://localhost:8080/"
        },
        "outputId": "dd41f8c5-c040-4af3-c8c7-a781e887b8bb"
      },
      "source": [
        "!pip install vec2graph"
      ],
      "execution_count": null,
      "outputs": [
        {
          "output_type": "stream",
          "text": [
            "Collecting vec2graph\n",
            "  Downloading https://files.pythonhosted.org/packages/25/bf/45db06130554f4b35478c5989be745fa251114ba280cac04ba3ee0932396/vec2graph-0.3.0-py3-none-any.whl\n",
            "Requirement already satisfied: gensim>3.5 in /usr/local/lib/python3.6/dist-packages (from vec2graph) (3.6.0)\n",
            "Requirement already satisfied: smart-open>1.8 in /usr/local/lib/python3.6/dist-packages (from vec2graph) (4.0.1)\n",
            "Requirement already satisfied: requests in /usr/local/lib/python3.6/dist-packages (from vec2graph) (2.23.0)\n",
            "Requirement already satisfied: numpy>=1.11.3 in /usr/local/lib/python3.6/dist-packages (from gensim>3.5->vec2graph) (1.19.4)\n",
            "Requirement already satisfied: six>=1.5.0 in /usr/local/lib/python3.6/dist-packages (from gensim>3.5->vec2graph) (1.15.0)\n",
            "Requirement already satisfied: scipy>=0.18.1 in /usr/local/lib/python3.6/dist-packages (from gensim>3.5->vec2graph) (1.4.1)\n",
            "Requirement already satisfied: certifi>=2017.4.17 in /usr/local/lib/python3.6/dist-packages (from requests->vec2graph) (2020.12.5)\n",
            "Requirement already satisfied: chardet<4,>=3.0.2 in /usr/local/lib/python3.6/dist-packages (from requests->vec2graph) (3.0.4)\n",
            "Requirement already satisfied: urllib3!=1.25.0,!=1.25.1,<1.26,>=1.21.1 in /usr/local/lib/python3.6/dist-packages (from requests->vec2graph) (1.24.3)\n",
            "Requirement already satisfied: idna<3,>=2.5 in /usr/local/lib/python3.6/dist-packages (from requests->vec2graph) (2.10)\n",
            "Installing collected packages: vec2graph\n",
            "Successfully installed vec2graph-0.3.0\n"
          ],
          "name": "stdout"
        }
      ]
    },
    {
      "cell_type": "markdown",
      "metadata": {
        "id": "M13E1ABCHXiD"
      },
      "source": [
        "# Imporint libraries"
      ]
    },
    {
      "cell_type": "code",
      "metadata": {
        "id": "44SpUMzIxKtn",
        "colab": {
          "base_uri": "https://localhost:8080/"
        },
        "outputId": "e208ddfd-7cc8-4584-ae2f-ee99ca3366a2"
      },
      "source": [
        "import pandas as pd\n",
        "import numpy as np\n",
        "from typing import Dict, Iterable, List, Tuple\n",
        "\n",
        "import matplotlib.pyplot as plt\n",
        "import matplotlib as mpl\n",
        "import matplotlib\n",
        "import matplotlib.cm as cm\n",
        "\n",
        "from collections import Counter\n",
        "from subprocess import check_output\n",
        "from wordcloud import WordCloud, STOPWORDS\n",
        "\n",
        "import gensim\n",
        "from gensim.models import word2vec\n",
        "from gensim.models import KeyedVectors\n",
        "from gensim import models\n",
        "from gensim.models.word2vec import Text8Corpus\n",
        "\n",
        "import re\n",
        "import sys\n",
        "import string\n",
        "\n",
        "import nltk\n",
        "nltk.download('punkt')\n",
        "from nltk.stem.porter import *\n",
        "from nltk.corpus import stopwords\n",
        "from nltk.probability import FreqDist\n",
        "\n",
        "import sklearn\n",
        "from sklearn.feature_extraction.text import CountVectorizer\n",
        "from sklearn import metrics\n",
        "from sklearn.metrics import jaccard_similarity_score\n",
        "from sklearn.metrics.pairwise import cosine_similarity\n",
        "from sklearn.feature_extraction.text import TfidfVectorizer\n",
        "from sklearn.cluster import KMeans\n",
        "from sklearn.manifold import TSNE\n",
        "from sklearn.model_selection import train_test_split \n",
        "from sklearn.decomposition import PCA\n",
        "\n",
        "import warnings\n",
        "warnings.filterwarnings('ignore')\n",
        "\n",
        "from vec2graph import visualize\n",
        "\n",
        "from subprocess import check_output\n",
        "\n",
        "from collections import defaultdict  # For word frequency\n",
        "\n",
        "import spacy  # For preprocessing\n",
        "\n",
        "%matplotlib inline\n",
        "import os\n",
        "import seaborn as sns\n",
        "sns.set_style(\"darkgrid\")\n",
        "\n",
        "import logging  # Setting up the loggings to monitor gensim\n",
        "logging.basicConfig(format=\"%(levelname)s - %(asctime)s: %(message)s\", datefmt= '%H:%M:%S', level=logging.INFO)"
      ],
      "execution_count": null,
      "outputs": [
        {
          "output_type": "stream",
          "text": [
            "[nltk_data] Downloading package punkt to /root/nltk_data...\n",
            "[nltk_data]   Unzipping tokenizers/punkt.zip.\n"
          ],
          "name": "stdout"
        }
      ]
    },
    {
      "cell_type": "markdown",
      "metadata": {
        "id": "t35UkZe8HmIB"
      },
      "source": [
        "# Mounting google drive"
      ]
    },
    {
      "cell_type": "code",
      "metadata": {
        "id": "rsgglzrPw-Gs",
        "colab": {
          "base_uri": "https://localhost:8080/"
        },
        "outputId": "68634600-cef3-4ffd-c643-fe17bcc2803b"
      },
      "source": [
        "from google.colab import drive\n",
        "drive.mount('/content/gdrive')"
      ],
      "execution_count": null,
      "outputs": [
        {
          "output_type": "stream",
          "text": [
            "Mounted at /content/gdrive\n"
          ],
          "name": "stdout"
        }
      ]
    },
    {
      "cell_type": "markdown",
      "metadata": {
        "id": "o0L2XhR-Hu3T"
      },
      "source": [
        "# Loading dataset"
      ]
    },
    {
      "cell_type": "code",
      "metadata": {
        "id": "Prehu_P9xJce",
        "colab": {
          "base_uri": "https://localhost:8080/",
          "height": 202
        },
        "outputId": "08a041b4-7b14-4fad-d40b-916e05a3e829"
      },
      "source": [
        "#Features are renamed, and the first row is skipped\n",
        "feature_names = ['Artist', 'Title','Lyric']\n",
        "my_dataset = pd.read_csv('/content/gdrive/My Drive/Kaggle/LYRICS_DATASET.csv', header=None, skiprows=1, names = feature_names)\n",
        "\n",
        "my_dataset.head()\n"
      ],
      "execution_count": null,
      "outputs": [
        {
          "output_type": "execute_result",
          "data": {
            "text/html": [
              "<div>\n",
              "<style scoped>\n",
              "    .dataframe tbody tr th:only-of-type {\n",
              "        vertical-align: middle;\n",
              "    }\n",
              "\n",
              "    .dataframe tbody tr th {\n",
              "        vertical-align: top;\n",
              "    }\n",
              "\n",
              "    .dataframe thead th {\n",
              "        text-align: right;\n",
              "    }\n",
              "</style>\n",
              "<table border=\"1\" class=\"dataframe\">\n",
              "  <thead>\n",
              "    <tr style=\"text-align: right;\">\n",
              "      <th></th>\n",
              "      <th>Artist</th>\n",
              "      <th>Title</th>\n",
              "      <th>Lyric</th>\n",
              "    </tr>\n",
              "  </thead>\n",
              "  <tbody>\n",
              "    <tr>\n",
              "      <th>0</th>\n",
              "      <td>Phoebe Bridgers</td>\n",
              "      <td>Motion Sickness</td>\n",
              "      <td>I hate you for what you did And I miss you li...</td>\n",
              "    </tr>\n",
              "    <tr>\n",
              "      <th>1</th>\n",
              "      <td>Phoebe Bridgers</td>\n",
              "      <td>Killer</td>\n",
              "      <td>Sometimes I think I'm a killer I scared you i...</td>\n",
              "    </tr>\n",
              "    <tr>\n",
              "      <th>2</th>\n",
              "      <td>Phoebe Bridgers</td>\n",
              "      <td>Georgia</td>\n",
              "      <td>Georgia, Georgia, I love your son And when he...</td>\n",
              "    </tr>\n",
              "    <tr>\n",
              "      <th>3</th>\n",
              "      <td>Phoebe Bridgers</td>\n",
              "      <td>Kyoto</td>\n",
              "      <td>Day off in Kyoto Got bored at the temple Look...</td>\n",
              "    </tr>\n",
              "    <tr>\n",
              "      <th>4</th>\n",
              "      <td>Phoebe Bridgers</td>\n",
              "      <td>Would You Rather</td>\n",
              "      <td>Playing \"would you rather\" When it comes to f...</td>\n",
              "    </tr>\n",
              "  </tbody>\n",
              "</table>\n",
              "</div>"
            ],
            "text/plain": [
              "            Artist  ...                                              Lyric\n",
              "0  Phoebe Bridgers  ...   I hate you for what you did And I miss you li...\n",
              "1  Phoebe Bridgers  ...   Sometimes I think I'm a killer I scared you i...\n",
              "2  Phoebe Bridgers  ...   Georgia, Georgia, I love your son And when he...\n",
              "3  Phoebe Bridgers  ...   Day off in Kyoto Got bored at the temple Look...\n",
              "4  Phoebe Bridgers  ...   Playing \"would you rather\" When it comes to f...\n",
              "\n",
              "[5 rows x 3 columns]"
            ]
          },
          "metadata": {
            "tags": []
          },
          "execution_count": 12
        }
      ]
    },
    {
      "cell_type": "markdown",
      "metadata": {
        "id": "PthDjpawUIxg"
      },
      "source": [
        "Cleaning of the dataset "
      ]
    },
    {
      "cell_type": "markdown",
      "metadata": {
        "id": "sDfC4QQEH5yh"
      },
      "source": [
        "# Cleaning dataset "
      ]
    },
    {
      "cell_type": "code",
      "metadata": {
        "id": "bGnP01TDxF1s",
        "colab": {
          "base_uri": "https://localhost:8080/"
        },
        "outputId": "8ca6cc86-5dde-4072-84fb-fcd6625940c9"
      },
      "source": [
        "#Cleaning of dataset(needs to be updated)\n",
        "def cleaning(s):\n",
        "    s = str(s)\n",
        "    s = s.lower()\n",
        "    s = s.replace(\",\",\"\")\n",
        "    s = s.replace(\".\",\"\")\n",
        "    s = s.replace('(demo)',\"\")\n",
        "    s = s.replace(\"(new song)\",\"\")\n",
        "    s = s.replace(\"(acoustic)\",\"\")\n",
        "    s = s.replace(\"(cover)\",\"\")\n",
        "    s = s.replace(\"(arctic monkeys cover)\",\"\")\n",
        "    s = s.replace(\"(remix)\",\"\")\n",
        "    s = s.replace(\"(argentum remix)\",\"\")\n",
        "    s = s.replace(\"(rick ross remix)\",\"\")\n",
        "    s = s.replace(\"(latin remix)\",\"\")\n",
        "    s = s.replace(\"(maya jane coles remix)\",\"\")\n",
        "    s = s.replace(\"(sir spyro remix)\",\"\")\n",
        "    s = s.replace(\"(live)\",\"\")\n",
        "    s = s.replace(\"(live from dublin academy)\",\"\")\n",
        "    s = s.replace(\"(live from the late late show)\",\"\")\n",
        "    s = s.replace(\"(bbc radio 1 live lounge)\",\"\")\n",
        "    s = s.replace(\"(live at sofar sounds)\",\"\")\n",
        "    s = s.replace(\"(live at windmill lane studios)\",\"\")\n",
        "    s = s.replace(\"(live at the live room)\",\"\")\n",
        "    s = s.replace(\"(poem)\",\"\")\n",
        "    s = s.replace(\"[essay]\",\"\")\n",
        "    s = re.sub('[!@#$+()/&?\\´\\-\\'\\’\\\"]', '', s)\n",
        "    return s\n",
        "\n",
        "my_dataset['Title'] = [cleaning(s) for s in my_dataset['Title']]\n",
        "my_dataset['Lyric'] = [cleaning(s) for s in my_dataset['Lyric']]\n",
        "\n",
        "my_dataset.head()"
      ],
      "execution_count": null,
      "outputs": [
        {
          "output_type": "execute_result",
          "data": {
            "text/html": [
              "<div>\n",
              "<style scoped>\n",
              "    .dataframe tbody tr th:only-of-type {\n",
              "        vertical-align: middle;\n",
              "    }\n",
              "\n",
              "    .dataframe tbody tr th {\n",
              "        vertical-align: top;\n",
              "    }\n",
              "\n",
              "    .dataframe thead th {\n",
              "        text-align: right;\n",
              "    }\n",
              "</style>\n",
              "<table border=\"1\" class=\"dataframe\">\n",
              "  <thead>\n",
              "    <tr style=\"text-align: right;\">\n",
              "      <th></th>\n",
              "      <th>Artist</th>\n",
              "      <th>Title</th>\n",
              "      <th>Lyric</th>\n",
              "    </tr>\n",
              "  </thead>\n",
              "  <tbody>\n",
              "    <tr>\n",
              "      <th>0</th>\n",
              "      <td>Phoebe Bridgers</td>\n",
              "      <td>motion sickness</td>\n",
              "      <td>i hate you for what you did and i miss you li...</td>\n",
              "    </tr>\n",
              "    <tr>\n",
              "      <th>1</th>\n",
              "      <td>Phoebe Bridgers</td>\n",
              "      <td>killer</td>\n",
              "      <td>sometimes i think im a killer i scared you in...</td>\n",
              "    </tr>\n",
              "    <tr>\n",
              "      <th>2</th>\n",
              "      <td>Phoebe Bridgers</td>\n",
              "      <td>georgia</td>\n",
              "      <td>georgia georgia i love your son and when he g...</td>\n",
              "    </tr>\n",
              "    <tr>\n",
              "      <th>3</th>\n",
              "      <td>Phoebe Bridgers</td>\n",
              "      <td>kyoto</td>\n",
              "      <td>day off in kyoto got bored at the temple look...</td>\n",
              "    </tr>\n",
              "    <tr>\n",
              "      <th>4</th>\n",
              "      <td>Phoebe Bridgers</td>\n",
              "      <td>would you rather</td>\n",
              "      <td>playing would you rather when it comes to fir...</td>\n",
              "    </tr>\n",
              "  </tbody>\n",
              "</table>\n",
              "</div>"
            ],
            "text/plain": [
              "            Artist  ...                                              Lyric\n",
              "0  Phoebe Bridgers  ...   i hate you for what you did and i miss you li...\n",
              "1  Phoebe Bridgers  ...   sometimes i think im a killer i scared you in...\n",
              "2  Phoebe Bridgers  ...   georgia georgia i love your son and when he g...\n",
              "3  Phoebe Bridgers  ...   day off in kyoto got bored at the temple look...\n",
              "4  Phoebe Bridgers  ...   playing would you rather when it comes to fir...\n",
              "\n",
              "[5 rows x 3 columns]"
            ]
          },
          "metadata": {
            "tags": []
          },
          "execution_count": 13
        }
      ]
    },
    {
      "cell_type": "markdown",
      "metadata": {
        "id": "46RWgsZ8H-02"
      },
      "source": [
        "# Checking if title is part of the lyrics"
      ]
    },
    {
      "cell_type": "code",
      "metadata": {
        "id": "SmRE4FSC7ms0",
        "colab": {
          "base_uri": "https://localhost:8080/"
        },
        "cellView": "code",
        "outputId": "5a8e628f-d61e-4fd2-8db1-3f8ee94167e0"
      },
      "source": [
        "\n",
        "\n",
        "def percent_title_in_lyric(row):\n",
        "  if row['Title'] in row['Lyric']:\n",
        "      percentage = 100 \n",
        "  else:\n",
        "    token_lyc = nltk.word_tokenize(row['Lyric'])\n",
        "    token_tit = nltk.word_tokenize(row['Title'])\n",
        "    count = 0\n",
        "    for token in token_tit:\n",
        "      if token in token_lyc:\n",
        "        count += 1\n",
        "    percentage = count/len(token_tit) * 100 \n",
        "  return percentage\n",
        "\n",
        "def get_procent_of(dataset, percent):\n",
        "  percentage_list = dataset.Percentage.tolist()\n",
        "  occurence = percentage_list.count(percent)\n",
        "  percentage = (occurence / dataset.shape[0] * 100)\n",
        "  print('Procentage of songs where {0} % of title is part of lyric: {1}'.format(percent,percentage))\n",
        "\n",
        " \n",
        "my_dataset['Percentage'] = my_dataset.apply (lambda row: percent_title_in_lyric(row), axis=1)\n",
        "\n",
        "get_procent_of(my_dataset, 100)\n",
        "get_procent_of(my_dataset, 0)\n",
        "\n",
        "hist = my_dataset.hist(column='Percentage', grid=False, figsize=(8,5), color='#86bf91')\n",
        "\n",
        "hist = hist[0]\n",
        "for x in hist:\n",
        "  x.set_xlabel(\"Percentage of title in lyric\", labelpad=18, weight='bold', size=13)\n",
        "  x.set_ylabel(\"Songs\", labelpad=18, weight='bold', size=13)"
      ],
      "execution_count": null,
      "outputs": [
        {
          "output_type": "stream",
          "text": [
            "Procentage of songs where 100 % of title is part of lyric: 82.42074927953891\n",
            "Procentage of songs where 0 % of title is part of lyric: 7.780979827089338\n"
          ],
          "name": "stdout"
        },
        {
          "output_type": "display_data",
          "data": {
            "image/png": "[encoded data removed]",
            "text/plain": [
              "<Figure size 576x360 with 1 Axes>"
            ]
          },
          "metadata": {
            "tags": []
          }
        }
      ]
    },
    {
      "cell_type": "markdown",
      "metadata": {
        "id": "uvWOSt8xUV3K"
      },
      "source": [
        "# Generel statistics on dataset \n",
        "\n"
      ]
    },
    {
      "cell_type": "code",
      "metadata": {
        "id": "IZflrA0XDVQr",
        "colab": {
          "base_uri": "https://localhost:8080/",
          "height": 1000
        },
        "outputId": "6ebb9a2c-878e-4d79-ea44-d14f14149b1f"
      },
      "source": [
        "#finding average amount of words and charecters \n",
        "def AverageChar(dataset, column):\n",
        "  all_char = [len(s) for s in dataset[column]]\n",
        "  avg_char = sum(all_char) / len(dataset)\n",
        "  print('Average number of charecters in {0} is: {1}'.format(column, avg_char))\n",
        "\n",
        "def AverageWords(dataset, column):\n",
        "  all_words = [len(s.split()) for s in dataset[column]]\n",
        "  my_dataset['Words'] = all_words\n",
        "  avg_words = sum(all_words) / len(dataset)\n",
        "  print('Average number of words in {0} is: {1}'.format(column, avg_words))\n",
        "\n",
        "AverageChar(my_dataset, 'Title')\n",
        "AverageChar(my_dataset, 'Lyric')\n",
        "AverageWords(my_dataset, 'Title')\n",
        "\n",
        "\n",
        "hist = my_dataset.hist(column='Words', grid=False, figsize=(8,5), color='#86bf91')\n",
        "\n",
        "hist = hist[0]\n",
        "for x in hist:\n",
        "  x.set_xlabel(\"Words in title\", labelpad=18, weight='bold', size=13)\n",
        "  x.set_ylabel(\"Songs\", labelpad=18, weight='bold', size=13)\n",
        "\n",
        "AverageWords(my_dataset, 'Lyric')\n",
        "\n",
        "histo = my_dataset.hist(column='Words', grid=False, figsize=(8,5), color='#86bf91')\n",
        "\n",
        "histo = histo[0]\n",
        "for x in histo:\n",
        "  x.set_xlabel(\"Words in lyrics\", labelpad=18, weight='bold', size=13)\n",
        "  x.set_ylabel(\"Songs\", labelpad=18, weight='bold', size=13)\n",
        "\n",
        "#Finding the most frequent words (Stopwords are not excluded)\n",
        "def Freqwords(top_freq,column):\n",
        "  txt = column.str.lower().str.replace(r'\\|', ' ').str.cat(sep=' ')\n",
        "  words = nltk.tokenize.word_tokenize(txt)\n",
        "  fdist = FreqDist(words)\n",
        "  frequent_words = fdist.most_common(top_freq)\n",
        "  plt.figure(figsize=(13,6))\n",
        "  plt.title('Frequency distribution')\n",
        "  fdist.plot(top_freq)\n",
        "\n",
        "Freqwords(30,  my_dataset.Lyric)\n",
        "Freqwords(30, my_dataset.Title)\n",
        "\n",
        "#Finding the unique words \n",
        "def UqWords(column):\n",
        "  txt = column.str.lower().str.replace(r'\\|', ' ').str.cat(sep=' ')\n",
        "  words = nltk.tokenize.word_tokenize(txt)\n",
        "  fdist = FreqDist(words)\n",
        "  unique_words = fdist.hapaxes()\n",
        "  procent_unique_words = len(unique_words) / len(words) * 100\n",
        "  print('There are {0} unique words, which is {1}% of the total words'.format(len(unique_words), procent_unique_words))\n",
        " \n",
        "UqWords(my_dataset.Lyric)\n",
        "UqWords(my_dataset.Title)"
      ],
      "execution_count": null,
      "outputs": [
        {
          "output_type": "stream",
          "text": [
            "Average number of charecters in Title is: 13.870317002881844\n",
            "Average number of charecters in Lyric is: 1206.5446685878962\n",
            "Average number of words in Title is: 2.7348703170028816\n",
            "Average number of words in Lyric is: 249.2420749279539\n"
          ],
          "name": "stdout"
        },
        {
          "output_type": "display_data",
          "data": {
            "image/png": "[encoded data removed]",
            "text/plain": [
              "<Figure size 576x360 with 1 Axes>"
            ]
          },
          "metadata": {
            "tags": []
          }
        },
        {
          "output_type": "display_data",
          "data": {
            "image/png": "[encoded data removed]",
            "text/plain": [
              "<Figure size 576x360 with 1 Axes>"
            ]
          },
          "metadata": {
            "tags": []
          }
        },
        {
          "output_type": "display_data",
          "data": {
            "image/png": "[encoded data removed]",
            "text/plain": [
              "<Figure size 936x432 with 1 Axes>"
            ]
          },
          "metadata": {
            "tags": []
          }
        },
        {
          "output_type": "display_data",
          "data": {
            "image/png": "[encoded data removed]",
            "text/plain": [
              "<Figure size 936x432 with 1 Axes>"
            ]
          },
          "metadata": {
            "tags": []
          }
        },
        {
          "output_type": "stream",
          "text": [
            "There are 2851 unique words, which is 3.282104414896679% of the total words\n",
            "There are 406 unique words, which is 42.64705882352941% of the total words\n"
          ],
          "name": "stdout"
        }
      ]
    },
    {
      "cell_type": "markdown",
      "metadata": {
        "id": "k5dxZkqIU4Sv"
      },
      "source": [
        "# Word embedder\n",
        "\n",
        "In this I use word2ved as a word embedder in order to get word vectors."
      ]
    },
    {
      "cell_type": "code",
      "metadata": {
        "id": "hVZJWJ8piPZX"
      },
      "source": [
        "#The data needs to be tokenized \n",
        "my_dataset['Lyric_tok'] = [nltk.tokenize.word_tokenize(s) for s in my_dataset['Lyric']]\n",
        "\n",
        "#The word2vec takes as input a list of sentences list of list \n",
        "sentences = list()\n",
        "for lyric in my_dataset['Lyric_tok']:\n",
        "     li = list(lyric)\n",
        "     sentences.append(li)\t\n",
        "\n",
        "#Because of the size of the dataset, and the mincount is set to 5, alot of the words will not be accounted for in title..\n",
        "#This word2vec uses skip-gram \n",
        "\n",
        "#Make model\n",
        "model = word2vec.Word2Vec(min_count=5, window=4, size=300, sg=1)\n",
        "\n",
        "#Build vocab\n",
        "model.build_vocab(sentences, progress_per=10000)\n",
        "\n",
        "#Train\n",
        "model.train(sentences, total_examples=model.corpus_count, epochs=5, report_delay=1)\n",
        "\n",
        "#Loading a pretrained model\n",
        "pre_model = models.KeyedVectors.load_word2vec_format('/content/gdrive/My Drive/Kaggle/GoogleNews-vectors-negative300.bin', binary=True)\n",
        "model2 = word2vec.Word2Vec(min_count=5, window=4, size=300, sg=1)\n",
        "model2.build_vocab(sentences, progress_per=10000)\n",
        "model2.intersect_word2vec_format(\"/content/gdrive/My Drive/Kaggle/GoogleNews-vectors-negative300.bin\", binary=True)\n",
        "model2.train(sentences, total_examples=model.corpus_count, epochs=model2.iter)\n",
        "\n",
        "\n"
      ],
      "execution_count": null,
      "outputs": []
    },
    {
      "cell_type": "markdown",
      "metadata": {
        "id": "g6-XbZDbIZDF"
      },
      "source": [
        "# Saving word models"
      ]
    },
    {
      "cell_type": "code",
      "metadata": {
        "id": "1Wb-xjkd68Xq",
        "colab": {
          "base_uri": "https://localhost:8080/",
          "height": 50
        },
        "outputId": "677a267b-7a68-4b33-8b9d-f985585241e3"
      },
      "source": [
        "model.wv.save_word2vec_format('/content/gdrive/My Drive/Kaggle/word2vec_lyrics.txt', binary=False)\n",
        "model2.wv.save_word2vec_format('/content/gdrive/My Drive/Kaggle/GoogleNews-vectors-negative300.txt', binary=False)"
      ],
      "execution_count": null,
      "outputs": [
        {
          "output_type": "stream",
          "text": [
            "INFO - 16:03:10: storing 1492x300 projection weights into /content/gdrive/My Drive/Kaggle/word2vec_lyrics.txt\n",
            "INFO - 16:03:10: storing 1492x300 projection weights into /content/gdrive/My Drive/Kaggle/GoogleNews-vectors-negative300.txt\n"
          ],
          "name": "stderr"
        }
      ]
    },
    {
      "cell_type": "markdown",
      "metadata": {
        "id": "bzIw5uR_H2op"
      },
      "source": [
        "# Splitting dataset \r\n",
        "\r\n",
        "The dataset will be split into training set, development set and evaluation set.\r\n",
        "\r\n",
        "60% - training set\r\n",
        "20% - development set\r\n",
        "20% - training set"
      ]
    },
    {
      "cell_type": "code",
      "metadata": {
        "id": "Zfo2mkgr31Sl"
      },
      "source": [
        "#Create evaluation set based on titles, not part of the lyric \n",
        "lyric_without_title = my_dataset[my_dataset.Percentage == 0]\n",
        "\n",
        "lyric_with_title = my_dataset[my_dataset.Percentage != 0]\n",
        "\n",
        "\n",
        "#remove columns not needed in model eg. artist and percentage\n",
        "lyric_without_title = lyric_without_title[['Lyric', 'Title']]\n",
        "\n",
        "lyric_with_title = lyric_with_title[['Lyric', 'Title']]\n",
        "\n",
        "\n",
        "#Splitting into train, test, dev\n",
        "train, test = train_test_split (lyric_with_title, test_size=0.1, train_size=0.9)\n",
        "train, dev = train_test_split(train,test_size = 0.25, train_size =0.75)\n",
        "\n",
        "#making individual .csv files for each of the datasets\n",
        "train.to_csv('/content/gdrive/My Drive/Kaggle/LYRICS_DATASET_train.csv',index=False)\n",
        "dev.to_csv('/content/gdrive/My Drive/Kaggle/LYRICS_DATASET_dev.csv',index=False)\n",
        "test.to_csv('/content/gdrive/My Drive/Kaggle/LYRICS_DATASET_test_with_title.csv',index=False)\n",
        "lyric_without_title.to_csv('/content/gdrive/My Drive/Kaggle/LYRICS_DATASET_test_without_title.csv',index=False)\n"
      ],
      "execution_count": null,
      "outputs": []
    }
  ]
}