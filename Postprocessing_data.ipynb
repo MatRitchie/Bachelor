{
  "nbformat": 4,
  "nbformat_minor": 0,
  "metadata": {
    "colab": {
      "name": "Postprocessing_data.ipynb",
      "provenance": [],
      "collapsed_sections": [
        "EdsTpd4F9guS"
      ],
      "authorship_tag": "ABX9TyOR0E3nfpXZd70CouRGTXUR",
      "include_colab_link": true
    },
    "kernelspec": {
      "name": "python3",
      "display_name": "Python 3"
    }
  },
  "cells": [
    {
      "cell_type": "markdown",
      "metadata": {
        "id": "view-in-github",
        "colab_type": "text"
      },
      "source": [
        "<a href=\"https://colab.research.google.com/github/MatRitchie/Bachelor/blob/main/Postprocessing_data.ipynb\" target=\"_parent\"><img src=\"https://colab.research.google.com/assets/colab-badge.svg\" alt=\"Open In Colab\"/></a>"
      ]
    },
    {
      "cell_type": "markdown",
      "metadata": {
        "id": "7W70t-Ua8t6M"
      },
      "source": [
        "# Installations\r\n",
        "- load tensorboard"
      ]
    },
    {
      "cell_type": "code",
      "metadata": {
        "id": "x-toZQrFCHhj"
      },
      "source": [
        "# Load the TensorBoard notebook extension\r\n",
        "%load_ext tensorboard"
      ],
      "execution_count": 1,
      "outputs": []
    },
    {
      "cell_type": "markdown",
      "metadata": {
        "id": "EdsTpd4F9guS"
      },
      "source": [
        "# Mount google drive "
      ]
    },
    {
      "cell_type": "code",
      "metadata": {
        "colab": {
          "base_uri": "https://localhost:8080/"
        },
        "id": "FEh_YF3Z9jo7",
        "outputId": "de88076d-7f27-4189-fd30-0a22b617a069"
      },
      "source": [
        "from google.colab import drive\r\n",
        "drive.mount('/content/gdrive')"
      ],
      "execution_count": 2,
      "outputs": [
        {
          "output_type": "stream",
          "text": [
            "Mounted at /content/gdrive\n"
          ],
          "name": "stdout"
        }
      ]
    },
    {
      "cell_type": "markdown",
      "metadata": {
        "id": "2Myr5tUE9G-t"
      },
      "source": [
        "# Using tensor board"
      ]
    },
    {
      "cell_type": "code",
      "metadata": {
        "id": "x9hmurlo9s8N"
      },
      "source": [
        "#Navigating to the directory, where the informtion_retrieval folder is present \r\n",
        "%cd gdrive/My\\ Drive/Bachelor_Project/"
      ],
      "execution_count": null,
      "outputs": []
    },
    {
      "cell_type": "code",
      "metadata": {
        "id": "bhbTu0RZ9fOc"
      },
      "source": [
        "%tensorboard --logdir=Output_pretrained_google"
      ],
      "execution_count": null,
      "outputs": []
    },
    {
      "cell_type": "markdown",
      "metadata": {
        "id": "12p7vPCh8pqI"
      },
      "source": [
        ""
      ]
    }
  ]
}